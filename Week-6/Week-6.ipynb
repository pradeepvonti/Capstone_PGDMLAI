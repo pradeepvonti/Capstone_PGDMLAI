{
 "cells": [
  {
   "cell_type": "markdown",
   "metadata": {},
   "source": [
    "# Capstone Week 6\n",
    "---"
   ]
  },
  {
   "cell_type": "markdown",
   "metadata": {},
   "source": [
    "# Index\n",
    "- [Capstone Objectives](#Capstone-Objectives)\n",
    "- [Read in Data](#Read-in-Data)\n",
    "    - [Merge 2018 and 2019](#Merge-2018-and-2019)\n",
    "    - [Make advisor dictionary mapper](#Make-advisor-dictionary-mapper)\n",
    "- [Data Cleaning](#Data-Cleaning)\n",
    "    - [Train-Test-Split](#Train-Test-Split)\n",
    "    - [Custom Cleaning Functions](#Custom-Cleaning-Functions)\n",
    "    - [Create Cleaning Pipeline](#Create-Cleaning-Pipeline)\n",
    "- [Model building](#Model-building)\n",
    "- [Make predictions](#Make-predictions)\n",
    "    - [Regression](#Regression)\n",
    "        - [Make Function to output deciles](#Make-Function-to-output-deciles)\n",
    "    - [Classification](#Classification)\n",
    "        - [Balance the data with `imbalanced-learn`](#Balance-the-data-with-imbalanced-learn)\n",
    "- [Scratch Work](#Scratch-Work)\n",
    "    - [Feature Engineering](#Feature-Engineering)\n",
    "        - [Variable Inflation Factor (VIF)](#Variable-Inflation-Factor-(VIF))\n",
    "    - [Residuals](#Residuals)\n",
    "    - [Model Interpretation](#Model-Interpretation)\n",
    "    - [Condition number](#Condition-number)"
   ]
  },
  {
   "cell_type": "markdown",
   "metadata": {},
   "source": [
    "# Capstone Objectives\n",
    "- Assist sales and marketing by improving their targeting\n",
    "- Predict sales for 2019 using the data for 2018\n",
    "- Estimate the probability of adding a new fund in 2019"
   ]
  },
  {
   "cell_type": "code",
   "execution_count": 1,
   "metadata": {},
   "outputs": [],
   "source": [
    "import numpy as np\n",
    "import pandas as pd\n",
    "import matplotlib.pyplot as plt\n",
    "\n",
    "from sklearn.model_selection import train_test_split\n",
    "from sklearn.preprocessing import StandardScaler\n",
    "from sklearn.pipeline import Pipeline\n",
    "from sklearn.preprocessing import FunctionTransformer\n",
    "from sklearn.metrics import classification_report\n",
    "\n",
    "pd.set_option('display.max_columns', 50)"
   ]
  },
  {
   "cell_type": "markdown",
   "metadata": {},
   "source": [
    "[Back to Top](#Index)\n",
    "# Read in Data"
   ]
  },
  {
   "cell_type": "code",
   "execution_count": 2,
   "metadata": {},
   "outputs": [],
   "source": [
    "df18 = pd.read_excel(\"../Transaction Data.xlsx\", sheet_name=\"Transactions18\")\n",
    "df19 = pd.read_excel(\"../Transaction Data.xlsx\", sheet_name=\"Transactions19\")"
   ]
  },
  {
   "cell_type": "markdown",
   "metadata": {},
   "source": [
    "## Merge 2018 and 2019"
   ]
  },
  {
   "cell_type": "code",
   "execution_count": 3,
   "metadata": {},
   "outputs": [
    {
     "name": "stdout",
     "output_type": "stream",
     "text": [
      "(10005, 41)\n"
     ]
    }
   ],
   "source": [
    "df = pd.merge(\n",
    "    df18, \n",
    "    df19, \n",
    "    on='CONTACT_ID',\n",
    "    suffixes=['_2018', '_2019']\n",
    ")\n",
    "print(df.shape)"
   ]
  },
  {
   "cell_type": "code",
   "execution_count": 4,
   "metadata": {},
   "outputs": [
    {
     "data": {
      "text/html": [
       "<div>\n",
       "<style scoped>\n",
       "    .dataframe tbody tr th:only-of-type {\n",
       "        vertical-align: middle;\n",
       "    }\n",
       "\n",
       "    .dataframe tbody tr th {\n",
       "        vertical-align: top;\n",
       "    }\n",
       "\n",
       "    .dataframe thead th {\n",
       "        text-align: right;\n",
       "    }\n",
       "</style>\n",
       "<table border=\"1\" class=\"dataframe\">\n",
       "  <thead>\n",
       "    <tr style=\"text-align: right;\">\n",
       "      <th></th>\n",
       "      <th>CONTACT_ID</th>\n",
       "      <th>no_of_sales_12M_1</th>\n",
       "      <th>no_of_Redemption_12M_1</th>\n",
       "      <th>no_of_sales_12M_10K</th>\n",
       "      <th>no_of_Redemption_12M_10K</th>\n",
       "      <th>no_of_funds_sold_12M_1</th>\n",
       "      <th>no_of_funds_redeemed_12M_1</th>\n",
       "      <th>no_of_fund_sales_12M_10K</th>\n",
       "      <th>no_of_funds_Redemption_12M_10K</th>\n",
       "      <th>no_of_assetclass_sold_12M_1</th>\n",
       "      <th>no_of_assetclass_redeemed_12M_1</th>\n",
       "      <th>no_of_assetclass_sales_12M_10K</th>\n",
       "      <th>no_of_assetclass_Redemption_12M_10K</th>\n",
       "      <th>No_of_fund_curr</th>\n",
       "      <th>No_of_asset_curr</th>\n",
       "      <th>AUM</th>\n",
       "      <th>sales_curr</th>\n",
       "      <th>sales_12M_2018</th>\n",
       "      <th>redemption_curr</th>\n",
       "      <th>redemption_12M</th>\n",
       "      <th>new_Fund_added_12M_2018</th>\n",
       "      <th>aum_AC_EQUITY</th>\n",
       "      <th>aum_AC_FIXED_INCOME_MUNI</th>\n",
       "      <th>aum_AC_FIXED_INCOME_TAXABLE</th>\n",
       "      <th>aum_AC_MONEY</th>\n",
       "      <th>aum_AC_MULTIPLE</th>\n",
       "      <th>aum_AC_PHYSICAL_COMMODITY</th>\n",
       "      <th>aum_AC_REAL_ESTATE</th>\n",
       "      <th>aum_AC_TARGET</th>\n",
       "      <th>aum_P_529</th>\n",
       "      <th>aum_P_ALT</th>\n",
       "      <th>aum_P_CEF</th>\n",
       "      <th>aum_P_ETF</th>\n",
       "      <th>aum_P_MF</th>\n",
       "      <th>aum_P_SMA</th>\n",
       "      <th>aum_P_UCITS</th>\n",
       "      <th>aum_P_UIT</th>\n",
       "      <th>refresh_date_2018</th>\n",
       "      <th>sales_12M_2019</th>\n",
       "      <th>new_Fund_added_12M_2019</th>\n",
       "      <th>refresh_date_2019</th>\n",
       "    </tr>\n",
       "  </thead>\n",
       "  <tbody>\n",
       "    <tr>\n",
       "      <th>0</th>\n",
       "      <td>0047433</td>\n",
       "      <td>21.0</td>\n",
       "      <td>38.0</td>\n",
       "      <td>NaN</td>\n",
       "      <td>1.0</td>\n",
       "      <td>5.0</td>\n",
       "      <td>5.0</td>\n",
       "      <td>NaN</td>\n",
       "      <td>1.0</td>\n",
       "      <td>2.0</td>\n",
       "      <td>2.0</td>\n",
       "      <td>NaN</td>\n",
       "      <td>1.0</td>\n",
       "      <td>8.0</td>\n",
       "      <td>1.0</td>\n",
       "      <td>237480.11</td>\n",
       "      <td>250.0</td>\n",
       "      <td>19682.0</td>\n",
       "      <td>-1496.745</td>\n",
       "      <td>-102496.165</td>\n",
       "      <td>NaN</td>\n",
       "      <td>-47342.32</td>\n",
       "      <td>284737.93</td>\n",
       "      <td>84.5</td>\n",
       "      <td>0.0</td>\n",
       "      <td>0.0</td>\n",
       "      <td>0.0</td>\n",
       "      <td>0.0</td>\n",
       "      <td>0.0</td>\n",
       "      <td>0.0</td>\n",
       "      <td>0.0</td>\n",
       "      <td>0.0</td>\n",
       "      <td>0.0</td>\n",
       "      <td>122866.04</td>\n",
       "      <td>114614.07</td>\n",
       "      <td>0.0</td>\n",
       "      <td>0.0</td>\n",
       "      <td>2018-12-31</td>\n",
       "      <td>18633.105</td>\n",
       "      <td>NaN</td>\n",
       "      <td>2019-12-31</td>\n",
       "    </tr>\n",
       "    <tr>\n",
       "      <th>1</th>\n",
       "      <td>4461312</td>\n",
       "      <td>NaN</td>\n",
       "      <td>NaN</td>\n",
       "      <td>NaN</td>\n",
       "      <td>NaN</td>\n",
       "      <td>NaN</td>\n",
       "      <td>NaN</td>\n",
       "      <td>NaN</td>\n",
       "      <td>NaN</td>\n",
       "      <td>NaN</td>\n",
       "      <td>NaN</td>\n",
       "      <td>NaN</td>\n",
       "      <td>NaN</td>\n",
       "      <td>1.0</td>\n",
       "      <td>1.0</td>\n",
       "      <td>19629.00</td>\n",
       "      <td>NaN</td>\n",
       "      <td>NaN</td>\n",
       "      <td>NaN</td>\n",
       "      <td>NaN</td>\n",
       "      <td>NaN</td>\n",
       "      <td>0.00</td>\n",
       "      <td>19629.00</td>\n",
       "      <td>0.0</td>\n",
       "      <td>0.0</td>\n",
       "      <td>0.0</td>\n",
       "      <td>0.0</td>\n",
       "      <td>0.0</td>\n",
       "      <td>0.0</td>\n",
       "      <td>0.0</td>\n",
       "      <td>0.0</td>\n",
       "      <td>0.0</td>\n",
       "      <td>0.0</td>\n",
       "      <td>19629.00</td>\n",
       "      <td>0.00</td>\n",
       "      <td>0.0</td>\n",
       "      <td>0.0</td>\n",
       "      <td>2018-12-31</td>\n",
       "      <td>NaN</td>\n",
       "      <td>NaN</td>\n",
       "      <td>2019-12-31</td>\n",
       "    </tr>\n",
       "    <tr>\n",
       "      <th>2</th>\n",
       "      <td>4491079</td>\n",
       "      <td>NaN</td>\n",
       "      <td>NaN</td>\n",
       "      <td>NaN</td>\n",
       "      <td>NaN</td>\n",
       "      <td>NaN</td>\n",
       "      <td>NaN</td>\n",
       "      <td>NaN</td>\n",
       "      <td>NaN</td>\n",
       "      <td>NaN</td>\n",
       "      <td>NaN</td>\n",
       "      <td>NaN</td>\n",
       "      <td>NaN</td>\n",
       "      <td>NaN</td>\n",
       "      <td>NaN</td>\n",
       "      <td>1758.70</td>\n",
       "      <td>NaN</td>\n",
       "      <td>NaN</td>\n",
       "      <td>NaN</td>\n",
       "      <td>NaN</td>\n",
       "      <td>NaN</td>\n",
       "      <td>0.00</td>\n",
       "      <td>1758.70</td>\n",
       "      <td>0.0</td>\n",
       "      <td>0.0</td>\n",
       "      <td>0.0</td>\n",
       "      <td>0.0</td>\n",
       "      <td>0.0</td>\n",
       "      <td>0.0</td>\n",
       "      <td>0.0</td>\n",
       "      <td>0.0</td>\n",
       "      <td>0.0</td>\n",
       "      <td>0.0</td>\n",
       "      <td>1758.70</td>\n",
       "      <td>0.00</td>\n",
       "      <td>0.0</td>\n",
       "      <td>0.0</td>\n",
       "      <td>2018-12-31</td>\n",
       "      <td>NaN</td>\n",
       "      <td>NaN</td>\n",
       "      <td>2019-12-31</td>\n",
       "    </tr>\n",
       "    <tr>\n",
       "      <th>3</th>\n",
       "      <td>0107408</td>\n",
       "      <td>20.0</td>\n",
       "      <td>NaN</td>\n",
       "      <td>2.0</td>\n",
       "      <td>NaN</td>\n",
       "      <td>1.0</td>\n",
       "      <td>NaN</td>\n",
       "      <td>1.0</td>\n",
       "      <td>NaN</td>\n",
       "      <td>1.0</td>\n",
       "      <td>NaN</td>\n",
       "      <td>1.0</td>\n",
       "      <td>NaN</td>\n",
       "      <td>1.0</td>\n",
       "      <td>1.0</td>\n",
       "      <td>57943.00</td>\n",
       "      <td>5459.0</td>\n",
       "      <td>52484.0</td>\n",
       "      <td>NaN</td>\n",
       "      <td>NaN</td>\n",
       "      <td>1.0</td>\n",
       "      <td>0.00</td>\n",
       "      <td>0.00</td>\n",
       "      <td>57943.0</td>\n",
       "      <td>0.0</td>\n",
       "      <td>0.0</td>\n",
       "      <td>0.0</td>\n",
       "      <td>0.0</td>\n",
       "      <td>0.0</td>\n",
       "      <td>0.0</td>\n",
       "      <td>0.0</td>\n",
       "      <td>0.0</td>\n",
       "      <td>0.0</td>\n",
       "      <td>57943.00</td>\n",
       "      <td>0.00</td>\n",
       "      <td>0.0</td>\n",
       "      <td>0.0</td>\n",
       "      <td>2018-12-31</td>\n",
       "      <td>93212.000</td>\n",
       "      <td>1.0</td>\n",
       "      <td>2019-12-31</td>\n",
       "    </tr>\n",
       "    <tr>\n",
       "      <th>4</th>\n",
       "      <td>85101140503769936458</td>\n",
       "      <td>NaN</td>\n",
       "      <td>NaN</td>\n",
       "      <td>NaN</td>\n",
       "      <td>NaN</td>\n",
       "      <td>NaN</td>\n",
       "      <td>NaN</td>\n",
       "      <td>NaN</td>\n",
       "      <td>NaN</td>\n",
       "      <td>NaN</td>\n",
       "      <td>NaN</td>\n",
       "      <td>NaN</td>\n",
       "      <td>NaN</td>\n",
       "      <td>NaN</td>\n",
       "      <td>NaN</td>\n",
       "      <td>-8573.59</td>\n",
       "      <td>NaN</td>\n",
       "      <td>NaN</td>\n",
       "      <td>NaN</td>\n",
       "      <td>NaN</td>\n",
       "      <td>NaN</td>\n",
       "      <td>-8573.59</td>\n",
       "      <td>0.00</td>\n",
       "      <td>0.0</td>\n",
       "      <td>0.0</td>\n",
       "      <td>0.0</td>\n",
       "      <td>0.0</td>\n",
       "      <td>0.0</td>\n",
       "      <td>0.0</td>\n",
       "      <td>0.0</td>\n",
       "      <td>0.0</td>\n",
       "      <td>0.0</td>\n",
       "      <td>0.0</td>\n",
       "      <td>-8573.59</td>\n",
       "      <td>0.00</td>\n",
       "      <td>0.0</td>\n",
       "      <td>0.0</td>\n",
       "      <td>2018-12-31</td>\n",
       "      <td>NaN</td>\n",
       "      <td>NaN</td>\n",
       "      <td>2019-12-31</td>\n",
       "    </tr>\n",
       "  </tbody>\n",
       "</table>\n",
       "</div>"
      ],
      "text/plain": [
       "             CONTACT_ID  no_of_sales_12M_1  no_of_Redemption_12M_1  \\\n",
       "0               0047433               21.0                    38.0   \n",
       "1               4461312                NaN                     NaN   \n",
       "2               4491079                NaN                     NaN   \n",
       "3               0107408               20.0                     NaN   \n",
       "4  85101140503769936458                NaN                     NaN   \n",
       "\n",
       "   no_of_sales_12M_10K  no_of_Redemption_12M_10K  no_of_funds_sold_12M_1  \\\n",
       "0                  NaN                       1.0                     5.0   \n",
       "1                  NaN                       NaN                     NaN   \n",
       "2                  NaN                       NaN                     NaN   \n",
       "3                  2.0                       NaN                     1.0   \n",
       "4                  NaN                       NaN                     NaN   \n",
       "\n",
       "   no_of_funds_redeemed_12M_1  no_of_fund_sales_12M_10K  \\\n",
       "0                         5.0                       NaN   \n",
       "1                         NaN                       NaN   \n",
       "2                         NaN                       NaN   \n",
       "3                         NaN                       1.0   \n",
       "4                         NaN                       NaN   \n",
       "\n",
       "   no_of_funds_Redemption_12M_10K  no_of_assetclass_sold_12M_1  \\\n",
       "0                             1.0                          2.0   \n",
       "1                             NaN                          NaN   \n",
       "2                             NaN                          NaN   \n",
       "3                             NaN                          1.0   \n",
       "4                             NaN                          NaN   \n",
       "\n",
       "   no_of_assetclass_redeemed_12M_1  no_of_assetclass_sales_12M_10K  \\\n",
       "0                              2.0                             NaN   \n",
       "1                              NaN                             NaN   \n",
       "2                              NaN                             NaN   \n",
       "3                              NaN                             1.0   \n",
       "4                              NaN                             NaN   \n",
       "\n",
       "   no_of_assetclass_Redemption_12M_10K  No_of_fund_curr  No_of_asset_curr  \\\n",
       "0                                  1.0              8.0               1.0   \n",
       "1                                  NaN              1.0               1.0   \n",
       "2                                  NaN              NaN               NaN   \n",
       "3                                  NaN              1.0               1.0   \n",
       "4                                  NaN              NaN               NaN   \n",
       "\n",
       "         AUM  sales_curr  sales_12M_2018  redemption_curr  redemption_12M  \\\n",
       "0  237480.11       250.0         19682.0        -1496.745     -102496.165   \n",
       "1   19629.00         NaN             NaN              NaN             NaN   \n",
       "2    1758.70         NaN             NaN              NaN             NaN   \n",
       "3   57943.00      5459.0         52484.0              NaN             NaN   \n",
       "4   -8573.59         NaN             NaN              NaN             NaN   \n",
       "\n",
       "   new_Fund_added_12M_2018  aum_AC_EQUITY  aum_AC_FIXED_INCOME_MUNI  \\\n",
       "0                      NaN      -47342.32                 284737.93   \n",
       "1                      NaN           0.00                  19629.00   \n",
       "2                      NaN           0.00                   1758.70   \n",
       "3                      1.0           0.00                      0.00   \n",
       "4                      NaN       -8573.59                      0.00   \n",
       "\n",
       "   aum_AC_FIXED_INCOME_TAXABLE  aum_AC_MONEY  aum_AC_MULTIPLE  \\\n",
       "0                         84.5           0.0              0.0   \n",
       "1                          0.0           0.0              0.0   \n",
       "2                          0.0           0.0              0.0   \n",
       "3                      57943.0           0.0              0.0   \n",
       "4                          0.0           0.0              0.0   \n",
       "\n",
       "   aum_AC_PHYSICAL_COMMODITY  aum_AC_REAL_ESTATE  aum_AC_TARGET  aum_P_529  \\\n",
       "0                        0.0                 0.0            0.0        0.0   \n",
       "1                        0.0                 0.0            0.0        0.0   \n",
       "2                        0.0                 0.0            0.0        0.0   \n",
       "3                        0.0                 0.0            0.0        0.0   \n",
       "4                        0.0                 0.0            0.0        0.0   \n",
       "\n",
       "   aum_P_ALT  aum_P_CEF  aum_P_ETF   aum_P_MF  aum_P_SMA  aum_P_UCITS  \\\n",
       "0        0.0        0.0        0.0  122866.04  114614.07          0.0   \n",
       "1        0.0        0.0        0.0   19629.00       0.00          0.0   \n",
       "2        0.0        0.0        0.0    1758.70       0.00          0.0   \n",
       "3        0.0        0.0        0.0   57943.00       0.00          0.0   \n",
       "4        0.0        0.0        0.0   -8573.59       0.00          0.0   \n",
       "\n",
       "   aum_P_UIT refresh_date_2018  sales_12M_2019  new_Fund_added_12M_2019  \\\n",
       "0        0.0        2018-12-31       18633.105                      NaN   \n",
       "1        0.0        2018-12-31             NaN                      NaN   \n",
       "2        0.0        2018-12-31             NaN                      NaN   \n",
       "3        0.0        2018-12-31       93212.000                      1.0   \n",
       "4        0.0        2018-12-31             NaN                      NaN   \n",
       "\n",
       "  refresh_date_2019  \n",
       "0        2019-12-31  \n",
       "1        2019-12-31  \n",
       "2        2019-12-31  \n",
       "3        2019-12-31  \n",
       "4        2019-12-31  "
      ]
     },
     "execution_count": 4,
     "metadata": {},
     "output_type": "execute_result"
    }
   ],
   "source": [
    "df.head()"
   ]
  },
  {
   "cell_type": "markdown",
   "metadata": {},
   "source": [
    "## Make advisor dictionary mapper"
   ]
  },
  {
   "cell_type": "code",
   "execution_count": 5,
   "metadata": {},
   "outputs": [],
   "source": [
    "adviser_lookup = {idx: contact_id for idx, contact_id in enumerate(df['CONTACT_ID'])}"
   ]
  },
  {
   "cell_type": "code",
   "execution_count": 6,
   "metadata": {},
   "outputs": [
    {
     "data": {
      "text/plain": [
       "'85201142414218755394'"
      ]
     },
     "execution_count": 6,
     "metadata": {},
     "output_type": "execute_result"
    }
   ],
   "source": [
    "adviser_lookup[123]"
   ]
  },
  {
   "cell_type": "markdown",
   "metadata": {},
   "source": [
    "[Back to Top](#Index)\n",
    "# Data Cleaning"
   ]
  },
  {
   "cell_type": "code",
   "execution_count": 7,
   "metadata": {},
   "outputs": [],
   "source": [
    "# make a variable to keep all of the columns we want to drop\n",
    "COLS_TO_DROP = [\n",
    "    'refresh_date_2019', 'refresh_date_2018', 'CONTACT_ID', \n",
    "]\n",
    "\n",
    "COLS_TO_KEEP = [\n",
    "    'no_of_sales_12M_1', 'no_of_Redemption_12M_1', 'no_of_sales_12M_10K',\n",
    "    'no_of_Redemption_12M_10K', 'no_of_funds_sold_12M_1',\n",
    "    'no_of_funds_redeemed_12M_1', 'no_of_fund_sales_12M_10K',\n",
    "    'no_of_funds_Redemption_12M_10K', 'no_of_assetclass_sold_12M_1',\n",
    "    'no_of_assetclass_redeemed_12M_1', 'no_of_assetclass_sales_12M_10K',\n",
    "    'no_of_assetclass_Redemption_12M_10K', 'No_of_fund_curr',\n",
    "    'No_of_asset_curr', 'AUM', 'sales_curr', 'sales_12M_2018',\n",
    "    'redemption_curr', 'redemption_12M', 'new_Fund_added_12M_2018',\n",
    "    'aum_AC_EQUITY', 'aum_AC_FIXED_INCOME_MUNI',\n",
    "    'aum_AC_FIXED_INCOME_TAXABLE', 'aum_AC_MONEY', 'aum_AC_MULTIPLE',\n",
    "    'aum_AC_PHYSICAL_COMMODITY', 'aum_AC_REAL_ESTATE', 'aum_AC_TARGET',\n",
    "    'aum_P_529', 'aum_P_ALT', 'aum_P_CEF', 'aum_P_ETF', 'aum_P_MF',\n",
    "    'aum_P_SMA', 'aum_P_UCITS', 'aum_P_UIT'\n",
    "]"
   ]
  },
  {
   "cell_type": "code",
   "execution_count": 8,
   "metadata": {},
   "outputs": [],
   "source": [
    "X = df.drop(['sales_12M_2019', 'new_Fund_added_12M_2019'], axis=1)\n",
    "y_reg = df['sales_12M_2019']\n",
    "y_cl = df['new_Fund_added_12M_2019']"
   ]
  },
  {
   "cell_type": "markdown",
   "metadata": {},
   "source": [
    "## Train-Test-Split"
   ]
  },
  {
   "cell_type": "code",
   "execution_count": 9,
   "metadata": {},
   "outputs": [
    {
     "data": {
      "text/plain": [
       "False    5074\n",
       "True     4931\n",
       "Name: sales_12M_2019, dtype: int64"
      ]
     },
     "execution_count": 9,
     "metadata": {},
     "output_type": "execute_result"
    }
   ],
   "source": [
    "y_reg.isnull().value_counts()"
   ]
  },
  {
   "cell_type": "code",
   "execution_count": 10,
   "metadata": {},
   "outputs": [],
   "source": [
    "X_train, X_test, y_train_reg, y_test_reg = train_test_split(\n",
    "    X, y_reg, test_size=0.25, random_state=24, stratify=y_reg.isnull())\n",
    "y_train_cl, y_test_cl = y_cl[y_train_reg.index], y_cl[y_test_reg.index]"
   ]
  },
  {
   "cell_type": "code",
   "execution_count": 11,
   "metadata": {},
   "outputs": [
    {
     "data": {
      "text/plain": [
       "False    0.50713\n",
       "True     0.49287\n",
       "Name: sales_12M_2019, dtype: float64"
      ]
     },
     "execution_count": 11,
     "metadata": {},
     "output_type": "execute_result"
    }
   ],
   "source": [
    "y_train_reg.isnull().value_counts(normalize=True)"
   ]
  },
  {
   "cell_type": "code",
   "execution_count": 12,
   "metadata": {},
   "outputs": [
    {
     "data": {
      "text/plain": [
       "False    0.507194\n",
       "True     0.492806\n",
       "Name: sales_12M_2019, dtype: float64"
      ]
     },
     "execution_count": 12,
     "metadata": {},
     "output_type": "execute_result"
    }
   ],
   "source": [
    "y_test_reg.isnull().value_counts(normalize=True)"
   ]
  },
  {
   "cell_type": "markdown",
   "metadata": {},
   "source": [
    "## Custom Cleaning Functions"
   ]
  },
  {
   "cell_type": "code",
   "execution_count": 13,
   "metadata": {},
   "outputs": [],
   "source": [
    "def extract_columns(df):\n",
    "    '''extract out columns not listed in COLS_TO_DROP variable'''\n",
    "    cols_to_keep = [col for col in df.columns if col not in COLS_TO_DROP]\n",
    "    return df.loc[:, cols_to_keep].copy()\n",
    "\n",
    "def fillna_values(df):\n",
    "    '''fill nan values with zero'''\n",
    "    if isinstance(df, type(pd.Series(dtype='float64'))):\n",
    "        return df.fillna(0)\n",
    "    elif isinstance(df, type(pd.DataFrame())):\n",
    "        num_df = df.select_dtypes(include=['number']).fillna(0)\n",
    "        non_num_df = df.select_dtypes(exclude=['number'])\n",
    "        return pd.concat([num_df, non_num_df], axis=1)\n",
    "    else:\n",
    "        return np.nan_to_num(df)\n",
    "\n",
    "def negative_to_zero(series):\n",
    "    '''fill negative values to zero'''\n",
    "    if isinstance(series, type(pd.Series(dtype='float64'))):\n",
    "        return series.apply(lambda x: max(0, x))\n",
    "    else:\n",
    "        return series\n",
    "    \n",
    "def bin_y_class(series):\n",
    "    series = series.apply(lambda x: 1 if x >=1 else 0)\n",
    "    return series"
   ]
  },
  {
   "cell_type": "markdown",
   "metadata": {},
   "source": [
    "[Back to Top](#Index)\n",
    "## Create Cleaning Pipeline"
   ]
  },
  {
   "cell_type": "markdown",
   "metadata": {},
   "source": [
    "Convert functions to transformers"
   ]
  },
  {
   "cell_type": "code",
   "execution_count": 14,
   "metadata": {},
   "outputs": [],
   "source": [
    "extract_columns_trans = FunctionTransformer(extract_columns)\n",
    "fillna_values_trans = FunctionTransformer(fillna_values)\n",
    "negative_to_zero_trans = FunctionTransformer(negative_to_zero)\n",
    "bin_y_class_trans = FunctionTransformer(bin_y_class)"
   ]
  },
  {
   "cell_type": "markdown",
   "metadata": {},
   "source": [
    "Make pipeline for target variables"
   ]
  },
  {
   "cell_type": "code",
   "execution_count": 15,
   "metadata": {},
   "outputs": [],
   "source": [
    "reg_targ_pipe = Pipeline([\n",
    "    ('fillna_values_trans', fillna_values_trans),\n",
    "    ('negative_to_zero', negative_to_zero_trans),\n",
    "])\n",
    "\n",
    "class_targ_pipe = Pipeline([\n",
    "    ('fillna_values_trans', fillna_values_trans),\n",
    "    ('bin_y_class_trans', bin_y_class_trans),\n",
    "])"
   ]
  },
  {
   "cell_type": "markdown",
   "metadata": {},
   "source": [
    "Fit and transform TRAINING"
   ]
  },
  {
   "cell_type": "code",
   "execution_count": 16,
   "metadata": {},
   "outputs": [],
   "source": [
    "y_train_reg = reg_targ_pipe.fit_transform(y_train_reg)\n",
    "y_train_cl = class_targ_pipe.fit_transform(y_train_cl)"
   ]
  },
  {
   "cell_type": "markdown",
   "metadata": {},
   "source": [
    "Transform only TESTING"
   ]
  },
  {
   "cell_type": "code",
   "execution_count": 17,
   "metadata": {},
   "outputs": [],
   "source": [
    "y_test_reg = reg_targ_pipe.transform(y_test_reg) \n",
    "y_test_cl = class_targ_pipe.transform(y_test_cl)"
   ]
  },
  {
   "cell_type": "code",
   "execution_count": 18,
   "metadata": {},
   "outputs": [
    {
     "data": {
      "text/plain": [
       "0    1861\n",
       "1     641\n",
       "Name: new_Fund_added_12M_2019, dtype: int64"
      ]
     },
     "execution_count": 18,
     "metadata": {},
     "output_type": "execute_result"
    }
   ],
   "source": [
    "y_test_cl.value_counts()"
   ]
  },
  {
   "cell_type": "markdown",
   "metadata": {},
   "source": [
    "Make pipeline for features"
   ]
  },
  {
   "cell_type": "code",
   "execution_count": 19,
   "metadata": {},
   "outputs": [
    {
     "data": {
      "text/html": [
       "<div>\n",
       "<style scoped>\n",
       "    .dataframe tbody tr th:only-of-type {\n",
       "        vertical-align: middle;\n",
       "    }\n",
       "\n",
       "    .dataframe tbody tr th {\n",
       "        vertical-align: top;\n",
       "    }\n",
       "\n",
       "    .dataframe thead th {\n",
       "        text-align: right;\n",
       "    }\n",
       "</style>\n",
       "<table border=\"1\" class=\"dataframe\">\n",
       "  <thead>\n",
       "    <tr style=\"text-align: right;\">\n",
       "      <th></th>\n",
       "      <th>CONTACT_ID</th>\n",
       "      <th>no_of_sales_12M_1</th>\n",
       "      <th>no_of_Redemption_12M_1</th>\n",
       "      <th>no_of_sales_12M_10K</th>\n",
       "      <th>no_of_Redemption_12M_10K</th>\n",
       "      <th>no_of_funds_sold_12M_1</th>\n",
       "      <th>no_of_funds_redeemed_12M_1</th>\n",
       "      <th>no_of_fund_sales_12M_10K</th>\n",
       "      <th>no_of_funds_Redemption_12M_10K</th>\n",
       "      <th>no_of_assetclass_sold_12M_1</th>\n",
       "      <th>no_of_assetclass_redeemed_12M_1</th>\n",
       "      <th>no_of_assetclass_sales_12M_10K</th>\n",
       "      <th>no_of_assetclass_Redemption_12M_10K</th>\n",
       "      <th>No_of_fund_curr</th>\n",
       "      <th>No_of_asset_curr</th>\n",
       "      <th>AUM</th>\n",
       "      <th>sales_curr</th>\n",
       "      <th>sales_12M_2018</th>\n",
       "      <th>redemption_curr</th>\n",
       "      <th>redemption_12M</th>\n",
       "      <th>new_Fund_added_12M_2018</th>\n",
       "      <th>aum_AC_EQUITY</th>\n",
       "      <th>aum_AC_FIXED_INCOME_MUNI</th>\n",
       "      <th>aum_AC_FIXED_INCOME_TAXABLE</th>\n",
       "      <th>aum_AC_MONEY</th>\n",
       "      <th>aum_AC_MULTIPLE</th>\n",
       "      <th>aum_AC_PHYSICAL_COMMODITY</th>\n",
       "      <th>aum_AC_REAL_ESTATE</th>\n",
       "      <th>aum_AC_TARGET</th>\n",
       "      <th>aum_P_529</th>\n",
       "      <th>aum_P_ALT</th>\n",
       "      <th>aum_P_CEF</th>\n",
       "      <th>aum_P_ETF</th>\n",
       "      <th>aum_P_MF</th>\n",
       "      <th>aum_P_SMA</th>\n",
       "      <th>aum_P_UCITS</th>\n",
       "      <th>aum_P_UIT</th>\n",
       "      <th>refresh_date_2018</th>\n",
       "      <th>refresh_date_2019</th>\n",
       "    </tr>\n",
       "  </thead>\n",
       "  <tbody>\n",
       "    <tr>\n",
       "      <th>3016</th>\n",
       "      <td>10761190984309697901</td>\n",
       "      <td>NaN</td>\n",
       "      <td>NaN</td>\n",
       "      <td>NaN</td>\n",
       "      <td>NaN</td>\n",
       "      <td>NaN</td>\n",
       "      <td>NaN</td>\n",
       "      <td>NaN</td>\n",
       "      <td>NaN</td>\n",
       "      <td>NaN</td>\n",
       "      <td>NaN</td>\n",
       "      <td>NaN</td>\n",
       "      <td>NaN</td>\n",
       "      <td>NaN</td>\n",
       "      <td>NaN</td>\n",
       "      <td>NaN</td>\n",
       "      <td>NaN</td>\n",
       "      <td>NaN</td>\n",
       "      <td>NaN</td>\n",
       "      <td>NaN</td>\n",
       "      <td>NaN</td>\n",
       "      <td>NaN</td>\n",
       "      <td>NaN</td>\n",
       "      <td>NaN</td>\n",
       "      <td>NaN</td>\n",
       "      <td>NaN</td>\n",
       "      <td>NaN</td>\n",
       "      <td>NaN</td>\n",
       "      <td>NaN</td>\n",
       "      <td>NaN</td>\n",
       "      <td>NaN</td>\n",
       "      <td>NaN</td>\n",
       "      <td>NaN</td>\n",
       "      <td>NaN</td>\n",
       "      <td>NaN</td>\n",
       "      <td>NaN</td>\n",
       "      <td>NaN</td>\n",
       "      <td>2018-12-31</td>\n",
       "      <td>2019-12-31</td>\n",
       "    </tr>\n",
       "    <tr>\n",
       "      <th>2569</th>\n",
       "      <td>0041111</td>\n",
       "      <td>12.0</td>\n",
       "      <td>2.0</td>\n",
       "      <td>NaN</td>\n",
       "      <td>1.0</td>\n",
       "      <td>1.0</td>\n",
       "      <td>2.0</td>\n",
       "      <td>NaN</td>\n",
       "      <td>1.0</td>\n",
       "      <td>1.0</td>\n",
       "      <td>1.0</td>\n",
       "      <td>NaN</td>\n",
       "      <td>1.0</td>\n",
       "      <td>6.0</td>\n",
       "      <td>5.0</td>\n",
       "      <td>3.795556e+05</td>\n",
       "      <td>NaN</td>\n",
       "      <td>16836.479175</td>\n",
       "      <td>-10575.9</td>\n",
       "      <td>-23998.869873</td>\n",
       "      <td>1.0</td>\n",
       "      <td>2.316456e+05</td>\n",
       "      <td>79576.588224</td>\n",
       "      <td>16836.479175</td>\n",
       "      <td>0.0</td>\n",
       "      <td>37171.885</td>\n",
       "      <td>14325.0</td>\n",
       "      <td>0.0</td>\n",
       "      <td>0.0</td>\n",
       "      <td>0.0</td>\n",
       "      <td>0.0</td>\n",
       "      <td>14325.0</td>\n",
       "      <td>0.0</td>\n",
       "      <td>-1.422221e+04</td>\n",
       "      <td>372973.15</td>\n",
       "      <td>0.0</td>\n",
       "      <td>6479.645304</td>\n",
       "      <td>2018-12-31</td>\n",
       "      <td>2019-12-31</td>\n",
       "    </tr>\n",
       "    <tr>\n",
       "      <th>2189</th>\n",
       "      <td>85101153244714763889</td>\n",
       "      <td>NaN</td>\n",
       "      <td>NaN</td>\n",
       "      <td>NaN</td>\n",
       "      <td>NaN</td>\n",
       "      <td>NaN</td>\n",
       "      <td>NaN</td>\n",
       "      <td>NaN</td>\n",
       "      <td>NaN</td>\n",
       "      <td>NaN</td>\n",
       "      <td>NaN</td>\n",
       "      <td>NaN</td>\n",
       "      <td>NaN</td>\n",
       "      <td>NaN</td>\n",
       "      <td>NaN</td>\n",
       "      <td>NaN</td>\n",
       "      <td>NaN</td>\n",
       "      <td>NaN</td>\n",
       "      <td>NaN</td>\n",
       "      <td>NaN</td>\n",
       "      <td>NaN</td>\n",
       "      <td>NaN</td>\n",
       "      <td>NaN</td>\n",
       "      <td>NaN</td>\n",
       "      <td>NaN</td>\n",
       "      <td>NaN</td>\n",
       "      <td>NaN</td>\n",
       "      <td>NaN</td>\n",
       "      <td>NaN</td>\n",
       "      <td>NaN</td>\n",
       "      <td>NaN</td>\n",
       "      <td>NaN</td>\n",
       "      <td>NaN</td>\n",
       "      <td>NaN</td>\n",
       "      <td>NaN</td>\n",
       "      <td>NaN</td>\n",
       "      <td>NaN</td>\n",
       "      <td>2018-12-31</td>\n",
       "      <td>2019-12-31</td>\n",
       "    </tr>\n",
       "    <tr>\n",
       "      <th>1166</th>\n",
       "      <td>4339054</td>\n",
       "      <td>4.0</td>\n",
       "      <td>7.0</td>\n",
       "      <td>2.0</td>\n",
       "      <td>3.0</td>\n",
       "      <td>2.0</td>\n",
       "      <td>4.0</td>\n",
       "      <td>1.0</td>\n",
       "      <td>2.0</td>\n",
       "      <td>2.0</td>\n",
       "      <td>2.0</td>\n",
       "      <td>1.0</td>\n",
       "      <td>2.0</td>\n",
       "      <td>9.0</td>\n",
       "      <td>2.0</td>\n",
       "      <td>-1.119938e+06</td>\n",
       "      <td>NaN</td>\n",
       "      <td>303342.790000</td>\n",
       "      <td>NaN</td>\n",
       "      <td>-366493.380000</td>\n",
       "      <td>NaN</td>\n",
       "      <td>-1.504295e+06</td>\n",
       "      <td>377202.510000</td>\n",
       "      <td>7154.470000</td>\n",
       "      <td>0.0</td>\n",
       "      <td>0.000</td>\n",
       "      <td>0.0</td>\n",
       "      <td>0.0</td>\n",
       "      <td>0.0</td>\n",
       "      <td>0.0</td>\n",
       "      <td>0.0</td>\n",
       "      <td>0.0</td>\n",
       "      <td>0.0</td>\n",
       "      <td>1.211478e+06</td>\n",
       "      <td>-2331416.86</td>\n",
       "      <td>0.0</td>\n",
       "      <td>0.000000</td>\n",
       "      <td>2018-12-31</td>\n",
       "      <td>2019-12-31</td>\n",
       "    </tr>\n",
       "    <tr>\n",
       "      <th>959</th>\n",
       "      <td>10751192894621910308</td>\n",
       "      <td>NaN</td>\n",
       "      <td>NaN</td>\n",
       "      <td>NaN</td>\n",
       "      <td>NaN</td>\n",
       "      <td>NaN</td>\n",
       "      <td>NaN</td>\n",
       "      <td>NaN</td>\n",
       "      <td>NaN</td>\n",
       "      <td>NaN</td>\n",
       "      <td>NaN</td>\n",
       "      <td>NaN</td>\n",
       "      <td>NaN</td>\n",
       "      <td>NaN</td>\n",
       "      <td>NaN</td>\n",
       "      <td>NaN</td>\n",
       "      <td>NaN</td>\n",
       "      <td>NaN</td>\n",
       "      <td>NaN</td>\n",
       "      <td>NaN</td>\n",
       "      <td>NaN</td>\n",
       "      <td>NaN</td>\n",
       "      <td>NaN</td>\n",
       "      <td>NaN</td>\n",
       "      <td>NaN</td>\n",
       "      <td>NaN</td>\n",
       "      <td>NaN</td>\n",
       "      <td>NaN</td>\n",
       "      <td>NaN</td>\n",
       "      <td>NaN</td>\n",
       "      <td>NaN</td>\n",
       "      <td>NaN</td>\n",
       "      <td>NaN</td>\n",
       "      <td>NaN</td>\n",
       "      <td>NaN</td>\n",
       "      <td>NaN</td>\n",
       "      <td>NaN</td>\n",
       "      <td>2018-12-31</td>\n",
       "      <td>2019-12-31</td>\n",
       "    </tr>\n",
       "  </tbody>\n",
       "</table>\n",
       "</div>"
      ],
      "text/plain": [
       "                CONTACT_ID  no_of_sales_12M_1  no_of_Redemption_12M_1  \\\n",
       "3016  10761190984309697901                NaN                     NaN   \n",
       "2569               0041111               12.0                     2.0   \n",
       "2189  85101153244714763889                NaN                     NaN   \n",
       "1166               4339054                4.0                     7.0   \n",
       "959   10751192894621910308                NaN                     NaN   \n",
       "\n",
       "      no_of_sales_12M_10K  no_of_Redemption_12M_10K  no_of_funds_sold_12M_1  \\\n",
       "3016                  NaN                       NaN                     NaN   \n",
       "2569                  NaN                       1.0                     1.0   \n",
       "2189                  NaN                       NaN                     NaN   \n",
       "1166                  2.0                       3.0                     2.0   \n",
       "959                   NaN                       NaN                     NaN   \n",
       "\n",
       "      no_of_funds_redeemed_12M_1  no_of_fund_sales_12M_10K  \\\n",
       "3016                         NaN                       NaN   \n",
       "2569                         2.0                       NaN   \n",
       "2189                         NaN                       NaN   \n",
       "1166                         4.0                       1.0   \n",
       "959                          NaN                       NaN   \n",
       "\n",
       "      no_of_funds_Redemption_12M_10K  no_of_assetclass_sold_12M_1  \\\n",
       "3016                             NaN                          NaN   \n",
       "2569                             1.0                          1.0   \n",
       "2189                             NaN                          NaN   \n",
       "1166                             2.0                          2.0   \n",
       "959                              NaN                          NaN   \n",
       "\n",
       "      no_of_assetclass_redeemed_12M_1  no_of_assetclass_sales_12M_10K  \\\n",
       "3016                              NaN                             NaN   \n",
       "2569                              1.0                             NaN   \n",
       "2189                              NaN                             NaN   \n",
       "1166                              2.0                             1.0   \n",
       "959                               NaN                             NaN   \n",
       "\n",
       "      no_of_assetclass_Redemption_12M_10K  No_of_fund_curr  No_of_asset_curr  \\\n",
       "3016                                  NaN              NaN               NaN   \n",
       "2569                                  1.0              6.0               5.0   \n",
       "2189                                  NaN              NaN               NaN   \n",
       "1166                                  2.0              9.0               2.0   \n",
       "959                                   NaN              NaN               NaN   \n",
       "\n",
       "               AUM  sales_curr  sales_12M_2018  redemption_curr  \\\n",
       "3016           NaN         NaN             NaN              NaN   \n",
       "2569  3.795556e+05         NaN    16836.479175         -10575.9   \n",
       "2189           NaN         NaN             NaN              NaN   \n",
       "1166 -1.119938e+06         NaN   303342.790000              NaN   \n",
       "959            NaN         NaN             NaN              NaN   \n",
       "\n",
       "      redemption_12M  new_Fund_added_12M_2018  aum_AC_EQUITY  \\\n",
       "3016             NaN                      NaN            NaN   \n",
       "2569   -23998.869873                      1.0   2.316456e+05   \n",
       "2189             NaN                      NaN            NaN   \n",
       "1166  -366493.380000                      NaN  -1.504295e+06   \n",
       "959              NaN                      NaN            NaN   \n",
       "\n",
       "      aum_AC_FIXED_INCOME_MUNI  aum_AC_FIXED_INCOME_TAXABLE  aum_AC_MONEY  \\\n",
       "3016                       NaN                          NaN           NaN   \n",
       "2569              79576.588224                 16836.479175           0.0   \n",
       "2189                       NaN                          NaN           NaN   \n",
       "1166             377202.510000                  7154.470000           0.0   \n",
       "959                        NaN                          NaN           NaN   \n",
       "\n",
       "      aum_AC_MULTIPLE  aum_AC_PHYSICAL_COMMODITY  aum_AC_REAL_ESTATE  \\\n",
       "3016              NaN                        NaN                 NaN   \n",
       "2569        37171.885                    14325.0                 0.0   \n",
       "2189              NaN                        NaN                 NaN   \n",
       "1166            0.000                        0.0                 0.0   \n",
       "959               NaN                        NaN                 NaN   \n",
       "\n",
       "      aum_AC_TARGET  aum_P_529  aum_P_ALT  aum_P_CEF  aum_P_ETF      aum_P_MF  \\\n",
       "3016            NaN        NaN        NaN        NaN        NaN           NaN   \n",
       "2569            0.0        0.0        0.0    14325.0        0.0 -1.422221e+04   \n",
       "2189            NaN        NaN        NaN        NaN        NaN           NaN   \n",
       "1166            0.0        0.0        0.0        0.0        0.0  1.211478e+06   \n",
       "959             NaN        NaN        NaN        NaN        NaN           NaN   \n",
       "\n",
       "       aum_P_SMA  aum_P_UCITS    aum_P_UIT refresh_date_2018 refresh_date_2019  \n",
       "3016         NaN          NaN          NaN        2018-12-31        2019-12-31  \n",
       "2569   372973.15          0.0  6479.645304        2018-12-31        2019-12-31  \n",
       "2189         NaN          NaN          NaN        2018-12-31        2019-12-31  \n",
       "1166 -2331416.86          0.0     0.000000        2018-12-31        2019-12-31  \n",
       "959          NaN          NaN          NaN        2018-12-31        2019-12-31  "
      ]
     },
     "execution_count": 19,
     "metadata": {},
     "output_type": "execute_result"
    }
   ],
   "source": [
    "X_train.head()"
   ]
  },
  {
   "cell_type": "code",
   "execution_count": 20,
   "metadata": {},
   "outputs": [
    {
     "data": {
      "text/plain": [
       "array([[-0.19627782, -0.10194059],\n",
       "       [-0.08388081, -0.09275606],\n",
       "       [-0.19627782, -0.10194059],\n",
       "       ...,\n",
       "       [-0.19627782, -0.10194059],\n",
       "       [-0.19627782, -0.10194059],\n",
       "       [-0.19627782, -0.09275606]])"
      ]
     },
     "execution_count": 20,
     "metadata": {},
     "output_type": "execute_result"
    }
   ],
   "source": [
    "ss = StandardScaler()\n",
    "ss.fit_transform(X_train[['no_of_sales_12M_1', 'no_of_Redemption_12M_1']].fillna(0), y_train_reg)"
   ]
  },
  {
   "cell_type": "code",
   "execution_count": 21,
   "metadata": {},
   "outputs": [
    {
     "data": {
      "text/plain": [
       "array([[-0.19627782, -0.10194059],\n",
       "       [-0.08388081, -0.09275606],\n",
       "       [-0.19627782, -0.10194059],\n",
       "       ...,\n",
       "       [-0.19627782, -0.10194059],\n",
       "       [-0.19627782, -0.10194059],\n",
       "       [-0.19627782, -0.09275606]])"
      ]
     },
     "execution_count": 21,
     "metadata": {},
     "output_type": "execute_result"
    }
   ],
   "source": [
    "ss.transform(X_train[['no_of_sales_12M_1', 'no_of_Redemption_12M_1']].fillna(0))"
   ]
  },
  {
   "cell_type": "code",
   "execution_count": 22,
   "metadata": {},
   "outputs": [
    {
     "data": {
      "text/plain": [
       "array([[-0.19627782, -0.10194059],\n",
       "       [-0.17754498, -0.10194059],\n",
       "       [-0.19627782, -0.10194059],\n",
       "       ...,\n",
       "       [ 0.97452437,  1.2711469 ],\n",
       "       [-0.05578155,  0.13226497],\n",
       "       [-0.19627782, -0.08357153]])"
      ]
     },
     "execution_count": 22,
     "metadata": {},
     "output_type": "execute_result"
    }
   ],
   "source": [
    "ss.transform(X_test[['no_of_sales_12M_1', 'no_of_Redemption_12M_1']].fillna(0))"
   ]
  },
  {
   "cell_type": "code",
   "execution_count": 23,
   "metadata": {},
   "outputs": [],
   "source": [
    "feat_pipe = Pipeline([\n",
    "    ('extract_columns_trans', extract_columns_trans),\n",
    "    ('fillna_values_trans', fillna_values_trans),\n",
    "    ('StandardScaler', StandardScaler()),\n",
    "])\n",
    "\n",
    "# fit and transform TRAINING\n",
    "train_array = feat_pipe.fit(X_train, y_train_reg).transform(X_train)\n",
    "\n",
    "# Give training data row and column labels back\n",
    "X_train_prepared = pd.DataFrame(\n",
    "    train_array,\n",
    "    index=X_train.index,\n",
    "    columns=COLS_TO_KEEP\n",
    ")"
   ]
  },
  {
   "cell_type": "code",
   "execution_count": 24,
   "metadata": {},
   "outputs": [
    {
     "data": {
      "text/html": [
       "<div>\n",
       "<style scoped>\n",
       "    .dataframe tbody tr th:only-of-type {\n",
       "        vertical-align: middle;\n",
       "    }\n",
       "\n",
       "    .dataframe tbody tr th {\n",
       "        vertical-align: top;\n",
       "    }\n",
       "\n",
       "    .dataframe thead th {\n",
       "        text-align: right;\n",
       "    }\n",
       "</style>\n",
       "<table border=\"1\" class=\"dataframe\">\n",
       "  <thead>\n",
       "    <tr style=\"text-align: right;\">\n",
       "      <th></th>\n",
       "      <th>no_of_sales_12M_1</th>\n",
       "      <th>no_of_Redemption_12M_1</th>\n",
       "      <th>no_of_sales_12M_10K</th>\n",
       "      <th>no_of_Redemption_12M_10K</th>\n",
       "      <th>no_of_funds_sold_12M_1</th>\n",
       "      <th>no_of_funds_redeemed_12M_1</th>\n",
       "      <th>no_of_fund_sales_12M_10K</th>\n",
       "      <th>no_of_funds_Redemption_12M_10K</th>\n",
       "      <th>no_of_assetclass_sold_12M_1</th>\n",
       "      <th>no_of_assetclass_redeemed_12M_1</th>\n",
       "      <th>no_of_assetclass_sales_12M_10K</th>\n",
       "      <th>no_of_assetclass_Redemption_12M_10K</th>\n",
       "      <th>No_of_fund_curr</th>\n",
       "      <th>No_of_asset_curr</th>\n",
       "      <th>AUM</th>\n",
       "      <th>sales_curr</th>\n",
       "      <th>sales_12M_2018</th>\n",
       "      <th>redemption_curr</th>\n",
       "      <th>redemption_12M</th>\n",
       "      <th>new_Fund_added_12M_2018</th>\n",
       "      <th>aum_AC_EQUITY</th>\n",
       "      <th>aum_AC_FIXED_INCOME_MUNI</th>\n",
       "      <th>aum_AC_FIXED_INCOME_TAXABLE</th>\n",
       "      <th>aum_AC_MONEY</th>\n",
       "      <th>aum_AC_MULTIPLE</th>\n",
       "      <th>aum_AC_PHYSICAL_COMMODITY</th>\n",
       "      <th>aum_AC_REAL_ESTATE</th>\n",
       "      <th>aum_AC_TARGET</th>\n",
       "      <th>aum_P_529</th>\n",
       "      <th>aum_P_ALT</th>\n",
       "      <th>aum_P_CEF</th>\n",
       "      <th>aum_P_ETF</th>\n",
       "      <th>aum_P_MF</th>\n",
       "      <th>aum_P_SMA</th>\n",
       "      <th>aum_P_UCITS</th>\n",
       "      <th>aum_P_UIT</th>\n",
       "    </tr>\n",
       "  </thead>\n",
       "  <tbody>\n",
       "    <tr>\n",
       "      <th>3016</th>\n",
       "      <td>-0.196278</td>\n",
       "      <td>-0.101941</td>\n",
       "      <td>-0.213159</td>\n",
       "      <td>-0.202310</td>\n",
       "      <td>-0.568538</td>\n",
       "      <td>-0.626347</td>\n",
       "      <td>-0.431731</td>\n",
       "      <td>-0.451524</td>\n",
       "      <td>-0.784367</td>\n",
       "      <td>-0.870084</td>\n",
       "      <td>-0.539912</td>\n",
       "      <td>-0.566298</td>\n",
       "      <td>-0.688081</td>\n",
       "      <td>-0.887018</td>\n",
       "      <td>-0.103503</td>\n",
       "      <td>-0.087693</td>\n",
       "      <td>-0.158849</td>\n",
       "      <td>0.090594</td>\n",
       "      <td>0.151819</td>\n",
       "      <td>-0.412074</td>\n",
       "      <td>-0.020322</td>\n",
       "      <td>-0.090999</td>\n",
       "      <td>-0.046796</td>\n",
       "      <td>-0.012455</td>\n",
       "      <td>-0.027474</td>\n",
       "      <td>-0.044623</td>\n",
       "      <td>-0.029518</td>\n",
       "      <td>-0.039159</td>\n",
       "      <td>-0.082041</td>\n",
       "      <td>-0.025459</td>\n",
       "      <td>-0.084761</td>\n",
       "      <td>-0.01501</td>\n",
       "      <td>-0.065685</td>\n",
       "      <td>-0.074575</td>\n",
       "      <td>-0.018967</td>\n",
       "      <td>-0.069496</td>\n",
       "    </tr>\n",
       "    <tr>\n",
       "      <th>2569</th>\n",
       "      <td>-0.083881</td>\n",
       "      <td>-0.092756</td>\n",
       "      <td>-0.213159</td>\n",
       "      <td>-0.092965</td>\n",
       "      <td>-0.152531</td>\n",
       "      <td>0.181888</td>\n",
       "      <td>-0.431731</td>\n",
       "      <td>0.284471</td>\n",
       "      <td>0.213785</td>\n",
       "      <td>0.088964</td>\n",
       "      <td>-0.539912</td>\n",
       "      <td>0.770265</td>\n",
       "      <td>1.221427</td>\n",
       "      <td>3.897522</td>\n",
       "      <td>0.005228</td>\n",
       "      <td>-0.087693</td>\n",
       "      <td>-0.143764</td>\n",
       "      <td>0.041500</td>\n",
       "      <td>0.123349</td>\n",
       "      <td>0.418829</td>\n",
       "      <td>0.151346</td>\n",
       "      <td>-0.064646</td>\n",
       "      <td>-0.018608</td>\n",
       "      <td>-0.012455</td>\n",
       "      <td>0.109718</td>\n",
       "      <td>0.455268</td>\n",
       "      <td>-0.029518</td>\n",
       "      <td>-0.039159</td>\n",
       "      <td>-0.082041</td>\n",
       "      <td>-0.025459</td>\n",
       "      <td>-0.043016</td>\n",
       "      <td>-0.01501</td>\n",
       "      <td>-0.070373</td>\n",
       "      <td>0.157046</td>\n",
       "      <td>-0.018967</td>\n",
       "      <td>0.002049</td>\n",
       "    </tr>\n",
       "  </tbody>\n",
       "</table>\n",
       "</div>"
      ],
      "text/plain": [
       "      no_of_sales_12M_1  no_of_Redemption_12M_1  no_of_sales_12M_10K  \\\n",
       "3016          -0.196278               -0.101941            -0.213159   \n",
       "2569          -0.083881               -0.092756            -0.213159   \n",
       "\n",
       "      no_of_Redemption_12M_10K  no_of_funds_sold_12M_1  \\\n",
       "3016                 -0.202310               -0.568538   \n",
       "2569                 -0.092965               -0.152531   \n",
       "\n",
       "      no_of_funds_redeemed_12M_1  no_of_fund_sales_12M_10K  \\\n",
       "3016                   -0.626347                 -0.431731   \n",
       "2569                    0.181888                 -0.431731   \n",
       "\n",
       "      no_of_funds_Redemption_12M_10K  no_of_assetclass_sold_12M_1  \\\n",
       "3016                       -0.451524                    -0.784367   \n",
       "2569                        0.284471                     0.213785   \n",
       "\n",
       "      no_of_assetclass_redeemed_12M_1  no_of_assetclass_sales_12M_10K  \\\n",
       "3016                        -0.870084                       -0.539912   \n",
       "2569                         0.088964                       -0.539912   \n",
       "\n",
       "      no_of_assetclass_Redemption_12M_10K  No_of_fund_curr  No_of_asset_curr  \\\n",
       "3016                            -0.566298        -0.688081         -0.887018   \n",
       "2569                             0.770265         1.221427          3.897522   \n",
       "\n",
       "           AUM  sales_curr  sales_12M_2018  redemption_curr  redemption_12M  \\\n",
       "3016 -0.103503   -0.087693       -0.158849         0.090594        0.151819   \n",
       "2569  0.005228   -0.087693       -0.143764         0.041500        0.123349   \n",
       "\n",
       "      new_Fund_added_12M_2018  aum_AC_EQUITY  aum_AC_FIXED_INCOME_MUNI  \\\n",
       "3016                -0.412074      -0.020322                 -0.090999   \n",
       "2569                 0.418829       0.151346                 -0.064646   \n",
       "\n",
       "      aum_AC_FIXED_INCOME_TAXABLE  aum_AC_MONEY  aum_AC_MULTIPLE  \\\n",
       "3016                    -0.046796     -0.012455        -0.027474   \n",
       "2569                    -0.018608     -0.012455         0.109718   \n",
       "\n",
       "      aum_AC_PHYSICAL_COMMODITY  aum_AC_REAL_ESTATE  aum_AC_TARGET  aum_P_529  \\\n",
       "3016                  -0.044623           -0.029518      -0.039159  -0.082041   \n",
       "2569                   0.455268           -0.029518      -0.039159  -0.082041   \n",
       "\n",
       "      aum_P_ALT  aum_P_CEF  aum_P_ETF  aum_P_MF  aum_P_SMA  aum_P_UCITS  \\\n",
       "3016  -0.025459  -0.084761   -0.01501 -0.065685  -0.074575    -0.018967   \n",
       "2569  -0.025459  -0.043016   -0.01501 -0.070373   0.157046    -0.018967   \n",
       "\n",
       "      aum_P_UIT  \n",
       "3016  -0.069496  \n",
       "2569   0.002049  "
      ]
     },
     "execution_count": 24,
     "metadata": {},
     "output_type": "execute_result"
    }
   ],
   "source": [
    "X_train_prepared.head(2)"
   ]
  },
  {
   "cell_type": "markdown",
   "metadata": {},
   "source": [
    "**TRANSFORM** the test set (Do NOT fit the pipeline on testing!)"
   ]
  },
  {
   "cell_type": "code",
   "execution_count": 25,
   "metadata": {},
   "outputs": [],
   "source": [
    "X_test_prepared = pd.DataFrame(\n",
    "    feat_pipe.transform(X_test),\n",
    "    index=X_test.index,\n",
    "    columns=COLS_TO_KEEP\n",
    ")"
   ]
  },
  {
   "cell_type": "code",
   "execution_count": 26,
   "metadata": {},
   "outputs": [
    {
     "data": {
      "text/html": [
       "<div>\n",
       "<style scoped>\n",
       "    .dataframe tbody tr th:only-of-type {\n",
       "        vertical-align: middle;\n",
       "    }\n",
       "\n",
       "    .dataframe tbody tr th {\n",
       "        vertical-align: top;\n",
       "    }\n",
       "\n",
       "    .dataframe thead th {\n",
       "        text-align: right;\n",
       "    }\n",
       "</style>\n",
       "<table border=\"1\" class=\"dataframe\">\n",
       "  <thead>\n",
       "    <tr style=\"text-align: right;\">\n",
       "      <th></th>\n",
       "      <th>no_of_sales_12M_1</th>\n",
       "      <th>no_of_Redemption_12M_1</th>\n",
       "      <th>no_of_sales_12M_10K</th>\n",
       "      <th>no_of_Redemption_12M_10K</th>\n",
       "      <th>no_of_funds_sold_12M_1</th>\n",
       "      <th>no_of_funds_redeemed_12M_1</th>\n",
       "      <th>no_of_fund_sales_12M_10K</th>\n",
       "      <th>no_of_funds_Redemption_12M_10K</th>\n",
       "      <th>no_of_assetclass_sold_12M_1</th>\n",
       "      <th>no_of_assetclass_redeemed_12M_1</th>\n",
       "      <th>no_of_assetclass_sales_12M_10K</th>\n",
       "      <th>no_of_assetclass_Redemption_12M_10K</th>\n",
       "      <th>No_of_fund_curr</th>\n",
       "      <th>No_of_asset_curr</th>\n",
       "      <th>AUM</th>\n",
       "      <th>sales_curr</th>\n",
       "      <th>sales_12M_2018</th>\n",
       "      <th>redemption_curr</th>\n",
       "      <th>redemption_12M</th>\n",
       "      <th>new_Fund_added_12M_2018</th>\n",
       "      <th>aum_AC_EQUITY</th>\n",
       "      <th>aum_AC_FIXED_INCOME_MUNI</th>\n",
       "      <th>aum_AC_FIXED_INCOME_TAXABLE</th>\n",
       "      <th>aum_AC_MONEY</th>\n",
       "      <th>aum_AC_MULTIPLE</th>\n",
       "      <th>aum_AC_PHYSICAL_COMMODITY</th>\n",
       "      <th>aum_AC_REAL_ESTATE</th>\n",
       "      <th>aum_AC_TARGET</th>\n",
       "      <th>aum_P_529</th>\n",
       "      <th>aum_P_ALT</th>\n",
       "      <th>aum_P_CEF</th>\n",
       "      <th>aum_P_ETF</th>\n",
       "      <th>aum_P_MF</th>\n",
       "      <th>aum_P_SMA</th>\n",
       "      <th>aum_P_UCITS</th>\n",
       "      <th>aum_P_UIT</th>\n",
       "    </tr>\n",
       "  </thead>\n",
       "  <tbody>\n",
       "    <tr>\n",
       "      <th>6307</th>\n",
       "      <td>-0.196278</td>\n",
       "      <td>-0.101941</td>\n",
       "      <td>-0.213159</td>\n",
       "      <td>-0.20231</td>\n",
       "      <td>-0.568538</td>\n",
       "      <td>-0.626347</td>\n",
       "      <td>-0.431731</td>\n",
       "      <td>-0.451524</td>\n",
       "      <td>-0.784367</td>\n",
       "      <td>-0.870084</td>\n",
       "      <td>-0.539912</td>\n",
       "      <td>-0.566298</td>\n",
       "      <td>-0.688081</td>\n",
       "      <td>-0.887018</td>\n",
       "      <td>-2.342891</td>\n",
       "      <td>-0.087693</td>\n",
       "      <td>-0.158849</td>\n",
       "      <td>0.090594</td>\n",
       "      <td>0.151819</td>\n",
       "      <td>-0.412074</td>\n",
       "      <td>-0.024431</td>\n",
       "      <td>-2.677914</td>\n",
       "      <td>-0.046796</td>\n",
       "      <td>-0.012455</td>\n",
       "      <td>-0.027474</td>\n",
       "      <td>-0.044623</td>\n",
       "      <td>-0.029518</td>\n",
       "      <td>-0.039159</td>\n",
       "      <td>-0.082041</td>\n",
       "      <td>-0.025459</td>\n",
       "      <td>-0.084761</td>\n",
       "      <td>-0.01501</td>\n",
       "      <td>-0.073010</td>\n",
       "      <td>-4.915368</td>\n",
       "      <td>-0.018967</td>\n",
       "      <td>-0.069496</td>\n",
       "    </tr>\n",
       "    <tr>\n",
       "      <th>4521</th>\n",
       "      <td>-0.177545</td>\n",
       "      <td>-0.101941</td>\n",
       "      <td>-0.213159</td>\n",
       "      <td>-0.20231</td>\n",
       "      <td>-0.152531</td>\n",
       "      <td>-0.626347</td>\n",
       "      <td>-0.431731</td>\n",
       "      <td>-0.451524</td>\n",
       "      <td>0.213785</td>\n",
       "      <td>-0.870084</td>\n",
       "      <td>-0.539912</td>\n",
       "      <td>-0.566298</td>\n",
       "      <td>-0.369830</td>\n",
       "      <td>0.069890</td>\n",
       "      <td>-0.098414</td>\n",
       "      <td>-0.087693</td>\n",
       "      <td>-0.157788</td>\n",
       "      <td>0.090594</td>\n",
       "      <td>0.151819</td>\n",
       "      <td>-0.412074</td>\n",
       "      <td>-0.020511</td>\n",
       "      <td>-0.090999</td>\n",
       "      <td>-0.016625</td>\n",
       "      <td>-0.012455</td>\n",
       "      <td>-0.027474</td>\n",
       "      <td>-0.044623</td>\n",
       "      <td>-0.029518</td>\n",
       "      <td>-0.039159</td>\n",
       "      <td>-0.082041</td>\n",
       "      <td>-0.025459</td>\n",
       "      <td>-0.084761</td>\n",
       "      <td>-0.01501</td>\n",
       "      <td>-0.059829</td>\n",
       "      <td>-0.074575</td>\n",
       "      <td>-0.018967</td>\n",
       "      <td>-0.069496</td>\n",
       "    </tr>\n",
       "  </tbody>\n",
       "</table>\n",
       "</div>"
      ],
      "text/plain": [
       "      no_of_sales_12M_1  no_of_Redemption_12M_1  no_of_sales_12M_10K  \\\n",
       "6307          -0.196278               -0.101941            -0.213159   \n",
       "4521          -0.177545               -0.101941            -0.213159   \n",
       "\n",
       "      no_of_Redemption_12M_10K  no_of_funds_sold_12M_1  \\\n",
       "6307                  -0.20231               -0.568538   \n",
       "4521                  -0.20231               -0.152531   \n",
       "\n",
       "      no_of_funds_redeemed_12M_1  no_of_fund_sales_12M_10K  \\\n",
       "6307                   -0.626347                 -0.431731   \n",
       "4521                   -0.626347                 -0.431731   \n",
       "\n",
       "      no_of_funds_Redemption_12M_10K  no_of_assetclass_sold_12M_1  \\\n",
       "6307                       -0.451524                    -0.784367   \n",
       "4521                       -0.451524                     0.213785   \n",
       "\n",
       "      no_of_assetclass_redeemed_12M_1  no_of_assetclass_sales_12M_10K  \\\n",
       "6307                        -0.870084                       -0.539912   \n",
       "4521                        -0.870084                       -0.539912   \n",
       "\n",
       "      no_of_assetclass_Redemption_12M_10K  No_of_fund_curr  No_of_asset_curr  \\\n",
       "6307                            -0.566298        -0.688081         -0.887018   \n",
       "4521                            -0.566298        -0.369830          0.069890   \n",
       "\n",
       "           AUM  sales_curr  sales_12M_2018  redemption_curr  redemption_12M  \\\n",
       "6307 -2.342891   -0.087693       -0.158849         0.090594        0.151819   \n",
       "4521 -0.098414   -0.087693       -0.157788         0.090594        0.151819   \n",
       "\n",
       "      new_Fund_added_12M_2018  aum_AC_EQUITY  aum_AC_FIXED_INCOME_MUNI  \\\n",
       "6307                -0.412074      -0.024431                 -2.677914   \n",
       "4521                -0.412074      -0.020511                 -0.090999   \n",
       "\n",
       "      aum_AC_FIXED_INCOME_TAXABLE  aum_AC_MONEY  aum_AC_MULTIPLE  \\\n",
       "6307                    -0.046796     -0.012455        -0.027474   \n",
       "4521                    -0.016625     -0.012455        -0.027474   \n",
       "\n",
       "      aum_AC_PHYSICAL_COMMODITY  aum_AC_REAL_ESTATE  aum_AC_TARGET  aum_P_529  \\\n",
       "6307                  -0.044623           -0.029518      -0.039159  -0.082041   \n",
       "4521                  -0.044623           -0.029518      -0.039159  -0.082041   \n",
       "\n",
       "      aum_P_ALT  aum_P_CEF  aum_P_ETF  aum_P_MF  aum_P_SMA  aum_P_UCITS  \\\n",
       "6307  -0.025459  -0.084761   -0.01501 -0.073010  -4.915368    -0.018967   \n",
       "4521  -0.025459  -0.084761   -0.01501 -0.059829  -0.074575    -0.018967   \n",
       "\n",
       "      aum_P_UIT  \n",
       "6307  -0.069496  \n",
       "4521  -0.069496  "
      ]
     },
     "execution_count": 26,
     "metadata": {},
     "output_type": "execute_result"
    }
   ],
   "source": [
    "X_test_prepared.head(2)"
   ]
  },
  {
   "cell_type": "markdown",
   "metadata": {},
   "source": [
    "[Back to Top](#Index)\n",
    "# Model building"
   ]
  },
  {
   "cell_type": "code",
   "execution_count": 27,
   "metadata": {},
   "outputs": [
    {
     "data": {
      "image/png": "[encoded data removed]",
      "text/plain": [
       "<Figure size 432x288 with 1 Axes>"
      ]
     },
     "metadata": {
      "needs_background": "light"
     },
     "output_type": "display_data"
    }
   ],
   "source": [
    "y_train_reg.hist(bins=40);"
   ]
  },
  {
   "cell_type": "code",
   "execution_count": 28,
   "metadata": {},
   "outputs": [
    {
     "data": {
      "text/plain": [
       "3016    3.792141e+06\n",
       "2569    5.656395e+05\n",
       "2189    5.481558e+04\n",
       "1166    7.762502e+05\n",
       "959     1.000000e+00\n",
       "            ...     \n",
       "719     1.000000e+00\n",
       "3975    2.223641e+06\n",
       "9721    1.000000e+00\n",
       "7684    8.350100e+04\n",
       "1604    1.375100e+04\n",
       "Name: sales_12M_2019, Length: 7503, dtype: float64"
      ]
     },
     "execution_count": 28,
     "metadata": {},
     "output_type": "execute_result"
    }
   ],
   "source": [
    "np.exp(np.log(y_train_reg+1))"
   ]
  },
  {
   "cell_type": "code",
   "execution_count": 29,
   "metadata": {},
   "outputs": [],
   "source": [
    "from sklearn.linear_model import RidgeCV\n",
    "from sklearn.compose import TransformedTargetRegressor"
   ]
  },
  {
   "cell_type": "code",
   "execution_count": 30,
   "metadata": {},
   "outputs": [],
   "source": [
    "# from sklearn.tree import DecisionTreeRegressor\n",
    "# from sklearn.ensemble import RandomForestRegressor\n",
    "# from sklearn.model_selection import RandomizedSearchCV\n",
    "# import xgboost as xgb"
   ]
  },
  {
   "cell_type": "code",
   "execution_count": 31,
   "metadata": {},
   "outputs": [],
   "source": [
    "def modified_log(x):\n",
    "    x = np.where(x<0, 0, x)\n",
    "    return np.log(x, where=x>0)"
   ]
  },
  {
   "cell_type": "code",
   "execution_count": 32,
   "metadata": {},
   "outputs": [],
   "source": [
    "def modified_exp(x):\n",
    "    x = np.where(x>15, 15, x)\n",
    "    return np.expm1(x)"
   ]
  },
  {
   "cell_type": "code",
   "execution_count": 33,
   "metadata": {},
   "outputs": [],
   "source": [
    "# ttr = TransformedTargetRegressor(\n",
    "#         RidgeCV(), \n",
    "#         func=modified_log, \n",
    "#         inverse_func=modified_exp, \n",
    "#         check_inverse=False\n",
    "# )"
   ]
  },
  {
   "cell_type": "code",
   "execution_count": 34,
   "metadata": {},
   "outputs": [],
   "source": [
    "ttr = TransformedTargetRegressor(\n",
    "        RidgeCV(), \n",
    "        func=np.log1p, \n",
    "        inverse_func=modified_exp, \n",
    "        check_inverse=False\n",
    ")"
   ]
  },
  {
   "cell_type": "code",
   "execution_count": 35,
   "metadata": {},
   "outputs": [
    {
     "data": {
      "text/plain": [
       "TransformedTargetRegressor(check_inverse=False, func=<ufunc 'log1p'>,\n",
       "                           inverse_func=<function modified_exp at 0x12e65fe50>,\n",
       "                           regressor=RidgeCV(alphas=array([ 0.1,  1. , 10. ])))"
      ]
     },
     "execution_count": 35,
     "metadata": {},
     "output_type": "execute_result"
    }
   ],
   "source": [
    "ttr.fit(X_train_prepared, y_train_reg)"
   ]
  },
  {
   "cell_type": "markdown",
   "metadata": {},
   "source": [
    "[Back to Top](#Index)\n",
    "# Make predictions"
   ]
  },
  {
   "cell_type": "markdown",
   "metadata": {},
   "source": [
    "## Regression"
   ]
  },
  {
   "cell_type": "code",
   "execution_count": 36,
   "metadata": {},
   "outputs": [
    {
     "data": {
      "text/plain": [
       "6307         3.064226\n",
       "4521        97.427806\n",
       "7859        12.029382\n",
       "110          8.572280\n",
       "4238        22.707121\n",
       "            ...      \n",
       "5710       292.812887\n",
       "6026        79.301902\n",
       "6246    782764.457229\n",
       "8059     32928.482550\n",
       "6438        31.448920\n",
       "Length: 2502, dtype: float64"
      ]
     },
     "execution_count": 36,
     "metadata": {},
     "output_type": "execute_result"
    }
   ],
   "source": [
    "test_preds = pd.Series(ttr.predict(X_test_prepared), index=y_test_reg.index)\n",
    "test_preds"
   ]
  },
  {
   "cell_type": "code",
   "execution_count": 37,
   "metadata": {},
   "outputs": [
    {
     "data": {
      "text/plain": [
       "0.034779944502079885"
      ]
     },
     "execution_count": 37,
     "metadata": {},
     "output_type": "execute_result"
    }
   ],
   "source": [
    "ttr.score(X_test_prepared, y_test_reg)"
   ]
  },
  {
   "cell_type": "markdown",
   "metadata": {},
   "source": [
    "[Back to Top](#Index)\n",
    "### Make Function to output deciles"
   ]
  },
  {
   "cell_type": "code",
   "execution_count": 39,
   "metadata": {},
   "outputs": [],
   "source": [
    "def output_deciles(model, X, y):\n",
    "    results = pd.DataFrame(model.predict(X), index=y.index, columns=['prediction'])\n",
    "    results['actual'] = y.values\n",
    "    results['deciles'] = pd.qcut(results['prediction'], 10, labels=False)\n",
    "    results['contact_id'] = results.index.map(adviser_lookup)\n",
    "    return results.sort_values(by='prediction', ascending=False)"
   ]
  },
  {
   "cell_type": "code",
   "execution_count": 40,
   "metadata": {},
   "outputs": [
    {
     "data": {
      "text/html": [
       "<div>\n",
       "<style scoped>\n",
       "    .dataframe tbody tr th:only-of-type {\n",
       "        vertical-align: middle;\n",
       "    }\n",
       "\n",
       "    .dataframe tbody tr th {\n",
       "        vertical-align: top;\n",
       "    }\n",
       "\n",
       "    .dataframe thead th {\n",
       "        text-align: right;\n",
       "    }\n",
       "</style>\n",
       "<table border=\"1\" class=\"dataframe\">\n",
       "  <thead>\n",
       "    <tr style=\"text-align: right;\">\n",
       "      <th></th>\n",
       "      <th>prediction</th>\n",
       "      <th>actual</th>\n",
       "      <th>deciles</th>\n",
       "      <th>contact_id</th>\n",
       "    </tr>\n",
       "  </thead>\n",
       "  <tbody>\n",
       "    <tr>\n",
       "      <th>6552</th>\n",
       "      <td>3.269016e+06</td>\n",
       "      <td>4.799405e+06</td>\n",
       "      <td>9</td>\n",
       "      <td>4458879</td>\n",
       "    </tr>\n",
       "    <tr>\n",
       "      <th>6436</th>\n",
       "      <td>3.269016e+06</td>\n",
       "      <td>2.563772e+04</td>\n",
       "      <td>9</td>\n",
       "      <td>4332201</td>\n",
       "    </tr>\n",
       "    <tr>\n",
       "      <th>1822</th>\n",
       "      <td>3.269016e+06</td>\n",
       "      <td>2.730628e+06</td>\n",
       "      <td>9</td>\n",
       "      <td>4468583</td>\n",
       "    </tr>\n",
       "    <tr>\n",
       "      <th>1511</th>\n",
       "      <td>3.269016e+06</td>\n",
       "      <td>5.033330e+05</td>\n",
       "      <td>9</td>\n",
       "      <td>0134746</td>\n",
       "    </tr>\n",
       "    <tr>\n",
       "      <th>2020</th>\n",
       "      <td>3.269016e+06</td>\n",
       "      <td>1.249126e+06</td>\n",
       "      <td>9</td>\n",
       "      <td>4357691</td>\n",
       "    </tr>\n",
       "    <tr>\n",
       "      <th>...</th>\n",
       "      <td>...</td>\n",
       "      <td>...</td>\n",
       "      <td>...</td>\n",
       "      <td>...</td>\n",
       "    </tr>\n",
       "    <tr>\n",
       "      <th>3037</th>\n",
       "      <td>5.778728e+00</td>\n",
       "      <td>0.000000e+00</td>\n",
       "      <td>0</td>\n",
       "      <td>4372593</td>\n",
       "    </tr>\n",
       "    <tr>\n",
       "      <th>28</th>\n",
       "      <td>5.397108e+00</td>\n",
       "      <td>0.000000e+00</td>\n",
       "      <td>0</td>\n",
       "      <td>4371164</td>\n",
       "    </tr>\n",
       "    <tr>\n",
       "      <th>8713</th>\n",
       "      <td>3.133218e+00</td>\n",
       "      <td>0.000000e+00</td>\n",
       "      <td>0</td>\n",
       "      <td>0286901</td>\n",
       "    </tr>\n",
       "    <tr>\n",
       "      <th>6307</th>\n",
       "      <td>3.064226e+00</td>\n",
       "      <td>0.000000e+00</td>\n",
       "      <td>0</td>\n",
       "      <td>4495550</td>\n",
       "    </tr>\n",
       "    <tr>\n",
       "      <th>8873</th>\n",
       "      <td>3.006718e+00</td>\n",
       "      <td>7.643961e+05</td>\n",
       "      <td>0</td>\n",
       "      <td>4376143</td>\n",
       "    </tr>\n",
       "  </tbody>\n",
       "</table>\n",
       "<p>2502 rows × 4 columns</p>\n",
       "</div>"
      ],
      "text/plain": [
       "        prediction        actual  deciles contact_id\n",
       "6552  3.269016e+06  4.799405e+06        9    4458879\n",
       "6436  3.269016e+06  2.563772e+04        9    4332201\n",
       "1822  3.269016e+06  2.730628e+06        9    4468583\n",
       "1511  3.269016e+06  5.033330e+05        9    0134746\n",
       "2020  3.269016e+06  1.249126e+06        9    4357691\n",
       "...            ...           ...      ...        ...\n",
       "3037  5.778728e+00  0.000000e+00        0    4372593\n",
       "28    5.397108e+00  0.000000e+00        0    4371164\n",
       "8713  3.133218e+00  0.000000e+00        0    0286901\n",
       "6307  3.064226e+00  0.000000e+00        0    4495550\n",
       "8873  3.006718e+00  7.643961e+05        0    4376143\n",
       "\n",
       "[2502 rows x 4 columns]"
      ]
     },
     "execution_count": 40,
     "metadata": {},
     "output_type": "execute_result"
    }
   ],
   "source": [
    "result_df = output_deciles(ttr, X_test_prepared, y_test_reg)\n",
    "result_df"
   ]
  },
  {
   "cell_type": "code",
   "execution_count": 41,
   "metadata": {},
   "outputs": [
    {
     "data": {
      "image/png": "[encoded data removed]",
      "text/plain": [
       "<Figure size 432x288 with 1 Axes>"
      ]
     },
     "metadata": {
      "needs_background": "light"
     },
     "output_type": "display_data"
    }
   ],
   "source": [
    "result_df.drop(columns='contact_id').groupby('deciles').sum().sort_index(ascending=False).plot(kind='bar');"
   ]
  },
  {
   "cell_type": "markdown",
   "metadata": {},
   "source": [
    "[Back to Top](#Index)\n",
    "## Classification"
   ]
  },
  {
   "cell_type": "code",
   "execution_count": 42,
   "metadata": {},
   "outputs": [
    {
     "data": {
      "text/plain": [
       "0    5623\n",
       "1    1880\n",
       "Name: new_Fund_added_12M_2019, dtype: int64"
      ]
     },
     "execution_count": 42,
     "metadata": {},
     "output_type": "execute_result"
    }
   ],
   "source": [
    "y_train_cl.value_counts()"
   ]
  },
  {
   "cell_type": "code",
   "execution_count": 43,
   "metadata": {},
   "outputs": [
    {
     "data": {
      "text/plain": [
       "0    1861\n",
       "1     641\n",
       "Name: new_Fund_added_12M_2019, dtype: int64"
      ]
     },
     "execution_count": 43,
     "metadata": {},
     "output_type": "execute_result"
    }
   ],
   "source": [
    "y_test_cl.value_counts()"
   ]
  },
  {
   "cell_type": "code",
   "execution_count": 44,
   "metadata": {},
   "outputs": [],
   "source": [
    "from sklearn.ensemble import GradientBoostingClassifier"
   ]
  },
  {
   "cell_type": "code",
   "execution_count": 45,
   "metadata": {},
   "outputs": [
    {
     "name": "stdout",
     "output_type": "stream",
     "text": [
      "              precision    recall  f1-score   support\n",
      "\n",
      "           0       0.76      0.97      0.85      1861\n",
      "           1       0.52      0.10      0.17       641\n",
      "\n",
      "    accuracy                           0.75      2502\n",
      "   macro avg       0.64      0.54      0.51      2502\n",
      "weighted avg       0.70      0.75      0.68      2502\n",
      "\n"
     ]
    }
   ],
   "source": [
    "gbt_base = GradientBoostingClassifier()\n",
    "gbt_base.fit(X_train_prepared, y_train_cl)\n",
    "test_pred_class = gbt_base.predict(X_test_prepared)\n",
    "print(classification_report(y_test_cl, test_pred_class))"
   ]
  },
  {
   "cell_type": "code",
   "execution_count": 46,
   "metadata": {},
   "outputs": [],
   "source": [
    "def output_deciles_class(model, X, y):\n",
    "    results = pd.DataFrame(model.predict_proba(X)[:,1], index=y.index, columns=['prediction'])\n",
    "    results['actual'] = y.values\n",
    "    results['deciles'] = pd.qcut(results['prediction'], 10, labels=False)\n",
    "    results['contact_id'] = results.index.map(adviser_lookup)\n",
    "    return results.sort_values(by='prediction', ascending=False)"
   ]
  },
  {
   "cell_type": "code",
   "execution_count": 47,
   "metadata": {},
   "outputs": [
    {
     "data": {
      "text/html": [
       "<div>\n",
       "<style scoped>\n",
       "    .dataframe tbody tr th:only-of-type {\n",
       "        vertical-align: middle;\n",
       "    }\n",
       "\n",
       "    .dataframe tbody tr th {\n",
       "        vertical-align: top;\n",
       "    }\n",
       "\n",
       "    .dataframe thead th {\n",
       "        text-align: right;\n",
       "    }\n",
       "</style>\n",
       "<table border=\"1\" class=\"dataframe\">\n",
       "  <thead>\n",
       "    <tr style=\"text-align: right;\">\n",
       "      <th></th>\n",
       "      <th>prediction</th>\n",
       "      <th>actual</th>\n",
       "      <th>deciles</th>\n",
       "      <th>contact_id</th>\n",
       "    </tr>\n",
       "  </thead>\n",
       "  <tbody>\n",
       "    <tr>\n",
       "      <th>1783</th>\n",
       "      <td>0.932667</td>\n",
       "      <td>1</td>\n",
       "      <td>9</td>\n",
       "      <td>85101103674323007541</td>\n",
       "    </tr>\n",
       "    <tr>\n",
       "      <th>7325</th>\n",
       "      <td>0.914916</td>\n",
       "      <td>1</td>\n",
       "      <td>9</td>\n",
       "      <td>4417770</td>\n",
       "    </tr>\n",
       "    <tr>\n",
       "      <th>7629</th>\n",
       "      <td>0.914758</td>\n",
       "      <td>1</td>\n",
       "      <td>9</td>\n",
       "      <td>0215284</td>\n",
       "    </tr>\n",
       "    <tr>\n",
       "      <th>6867</th>\n",
       "      <td>0.914558</td>\n",
       "      <td>1</td>\n",
       "      <td>9</td>\n",
       "      <td>0232384</td>\n",
       "    </tr>\n",
       "    <tr>\n",
       "      <th>5035</th>\n",
       "      <td>0.899724</td>\n",
       "      <td>1</td>\n",
       "      <td>9</td>\n",
       "      <td>4316840</td>\n",
       "    </tr>\n",
       "    <tr>\n",
       "      <th>...</th>\n",
       "      <td>...</td>\n",
       "      <td>...</td>\n",
       "      <td>...</td>\n",
       "      <td>...</td>\n",
       "    </tr>\n",
       "    <tr>\n",
       "      <th>7905</th>\n",
       "      <td>0.071795</td>\n",
       "      <td>0</td>\n",
       "      <td>0</td>\n",
       "      <td>0035524</td>\n",
       "    </tr>\n",
       "    <tr>\n",
       "      <th>5275</th>\n",
       "      <td>0.071207</td>\n",
       "      <td>0</td>\n",
       "      <td>0</td>\n",
       "      <td>0298171</td>\n",
       "    </tr>\n",
       "    <tr>\n",
       "      <th>9418</th>\n",
       "      <td>0.069437</td>\n",
       "      <td>0</td>\n",
       "      <td>0</td>\n",
       "      <td>4484142</td>\n",
       "    </tr>\n",
       "    <tr>\n",
       "      <th>974</th>\n",
       "      <td>0.067010</td>\n",
       "      <td>0</td>\n",
       "      <td>0</td>\n",
       "      <td>0025009</td>\n",
       "    </tr>\n",
       "    <tr>\n",
       "      <th>4707</th>\n",
       "      <td>0.052451</td>\n",
       "      <td>0</td>\n",
       "      <td>0</td>\n",
       "      <td>0349532</td>\n",
       "    </tr>\n",
       "  </tbody>\n",
       "</table>\n",
       "<p>7503 rows × 4 columns</p>\n",
       "</div>"
      ],
      "text/plain": [
       "      prediction  actual  deciles            contact_id\n",
       "1783    0.932667       1        9  85101103674323007541\n",
       "7325    0.914916       1        9               4417770\n",
       "7629    0.914758       1        9               0215284\n",
       "6867    0.914558       1        9               0232384\n",
       "5035    0.899724       1        9               4316840\n",
       "...          ...     ...      ...                   ...\n",
       "7905    0.071795       0        0               0035524\n",
       "5275    0.071207       0        0               0298171\n",
       "9418    0.069437       0        0               4484142\n",
       "974     0.067010       0        0               0025009\n",
       "4707    0.052451       0        0               0349532\n",
       "\n",
       "[7503 rows x 4 columns]"
      ]
     },
     "execution_count": 47,
     "metadata": {},
     "output_type": "execute_result"
    }
   ],
   "source": [
    "output_deciles_class(gbt_base, X_train_prepared, y_train_cl)"
   ]
  },
  {
   "cell_type": "code",
   "execution_count": null,
   "metadata": {},
   "outputs": [],
   "source": []
  },
  {
   "cell_type": "markdown",
   "metadata": {},
   "source": [
    "### Balance the data with `imbalanced-learn`"
   ]
  },
  {
   "cell_type": "code",
   "execution_count": 48,
   "metadata": {},
   "outputs": [],
   "source": [
    "from imblearn.over_sampling import SMOTE"
   ]
  },
  {
   "cell_type": "code",
   "execution_count": 49,
   "metadata": {},
   "outputs": [
    {
     "data": {
      "text/html": [
       "<div>\n",
       "<style scoped>\n",
       "    .dataframe tbody tr th:only-of-type {\n",
       "        vertical-align: middle;\n",
       "    }\n",
       "\n",
       "    .dataframe tbody tr th {\n",
       "        vertical-align: top;\n",
       "    }\n",
       "\n",
       "    .dataframe thead th {\n",
       "        text-align: right;\n",
       "    }\n",
       "</style>\n",
       "<table border=\"1\" class=\"dataframe\">\n",
       "  <thead>\n",
       "    <tr style=\"text-align: right;\">\n",
       "      <th></th>\n",
       "      <th>no_of_sales_12M_1</th>\n",
       "      <th>no_of_Redemption_12M_1</th>\n",
       "      <th>no_of_sales_12M_10K</th>\n",
       "      <th>no_of_Redemption_12M_10K</th>\n",
       "      <th>no_of_funds_sold_12M_1</th>\n",
       "      <th>no_of_funds_redeemed_12M_1</th>\n",
       "      <th>no_of_fund_sales_12M_10K</th>\n",
       "      <th>no_of_funds_Redemption_12M_10K</th>\n",
       "      <th>no_of_assetclass_sold_12M_1</th>\n",
       "      <th>no_of_assetclass_redeemed_12M_1</th>\n",
       "      <th>no_of_assetclass_sales_12M_10K</th>\n",
       "      <th>no_of_assetclass_Redemption_12M_10K</th>\n",
       "      <th>No_of_fund_curr</th>\n",
       "      <th>No_of_asset_curr</th>\n",
       "      <th>AUM</th>\n",
       "      <th>sales_curr</th>\n",
       "      <th>sales_12M_2018</th>\n",
       "      <th>redemption_curr</th>\n",
       "      <th>redemption_12M</th>\n",
       "      <th>new_Fund_added_12M_2018</th>\n",
       "      <th>aum_AC_EQUITY</th>\n",
       "      <th>aum_AC_FIXED_INCOME_MUNI</th>\n",
       "      <th>aum_AC_FIXED_INCOME_TAXABLE</th>\n",
       "      <th>aum_AC_MONEY</th>\n",
       "      <th>aum_AC_MULTIPLE</th>\n",
       "      <th>aum_AC_PHYSICAL_COMMODITY</th>\n",
       "      <th>aum_AC_REAL_ESTATE</th>\n",
       "      <th>aum_AC_TARGET</th>\n",
       "      <th>aum_P_529</th>\n",
       "      <th>aum_P_ALT</th>\n",
       "      <th>aum_P_CEF</th>\n",
       "      <th>aum_P_ETF</th>\n",
       "      <th>aum_P_MF</th>\n",
       "      <th>aum_P_SMA</th>\n",
       "      <th>aum_P_UCITS</th>\n",
       "      <th>aum_P_UIT</th>\n",
       "    </tr>\n",
       "  </thead>\n",
       "  <tbody>\n",
       "    <tr>\n",
       "      <th>3016</th>\n",
       "      <td>-0.196278</td>\n",
       "      <td>-0.101941</td>\n",
       "      <td>-0.213159</td>\n",
       "      <td>-0.202310</td>\n",
       "      <td>-0.568538</td>\n",
       "      <td>-0.626347</td>\n",
       "      <td>-0.431731</td>\n",
       "      <td>-0.451524</td>\n",
       "      <td>-0.784367</td>\n",
       "      <td>-0.870084</td>\n",
       "      <td>-0.539912</td>\n",
       "      <td>-0.566298</td>\n",
       "      <td>-0.688081</td>\n",
       "      <td>-0.887018</td>\n",
       "      <td>-0.103503</td>\n",
       "      <td>-0.087693</td>\n",
       "      <td>-0.158849</td>\n",
       "      <td>0.090594</td>\n",
       "      <td>0.151819</td>\n",
       "      <td>-0.412074</td>\n",
       "      <td>-0.020322</td>\n",
       "      <td>-0.090999</td>\n",
       "      <td>-0.046796</td>\n",
       "      <td>-0.012455</td>\n",
       "      <td>-0.027474</td>\n",
       "      <td>-0.044623</td>\n",
       "      <td>-0.029518</td>\n",
       "      <td>-0.039159</td>\n",
       "      <td>-0.082041</td>\n",
       "      <td>-0.025459</td>\n",
       "      <td>-0.084761</td>\n",
       "      <td>-0.01501</td>\n",
       "      <td>-0.065685</td>\n",
       "      <td>-0.074575</td>\n",
       "      <td>-0.018967</td>\n",
       "      <td>-0.069496</td>\n",
       "    </tr>\n",
       "    <tr>\n",
       "      <th>2569</th>\n",
       "      <td>-0.083881</td>\n",
       "      <td>-0.092756</td>\n",
       "      <td>-0.213159</td>\n",
       "      <td>-0.092965</td>\n",
       "      <td>-0.152531</td>\n",
       "      <td>0.181888</td>\n",
       "      <td>-0.431731</td>\n",
       "      <td>0.284471</td>\n",
       "      <td>0.213785</td>\n",
       "      <td>0.088964</td>\n",
       "      <td>-0.539912</td>\n",
       "      <td>0.770265</td>\n",
       "      <td>1.221427</td>\n",
       "      <td>3.897522</td>\n",
       "      <td>0.005228</td>\n",
       "      <td>-0.087693</td>\n",
       "      <td>-0.143764</td>\n",
       "      <td>0.041500</td>\n",
       "      <td>0.123349</td>\n",
       "      <td>0.418829</td>\n",
       "      <td>0.151346</td>\n",
       "      <td>-0.064646</td>\n",
       "      <td>-0.018608</td>\n",
       "      <td>-0.012455</td>\n",
       "      <td>0.109718</td>\n",
       "      <td>0.455268</td>\n",
       "      <td>-0.029518</td>\n",
       "      <td>-0.039159</td>\n",
       "      <td>-0.082041</td>\n",
       "      <td>-0.025459</td>\n",
       "      <td>-0.043016</td>\n",
       "      <td>-0.01501</td>\n",
       "      <td>-0.070373</td>\n",
       "      <td>0.157046</td>\n",
       "      <td>-0.018967</td>\n",
       "      <td>0.002049</td>\n",
       "    </tr>\n",
       "  </tbody>\n",
       "</table>\n",
       "</div>"
      ],
      "text/plain": [
       "      no_of_sales_12M_1  no_of_Redemption_12M_1  no_of_sales_12M_10K  \\\n",
       "3016          -0.196278               -0.101941            -0.213159   \n",
       "2569          -0.083881               -0.092756            -0.213159   \n",
       "\n",
       "      no_of_Redemption_12M_10K  no_of_funds_sold_12M_1  \\\n",
       "3016                 -0.202310               -0.568538   \n",
       "2569                 -0.092965               -0.152531   \n",
       "\n",
       "      no_of_funds_redeemed_12M_1  no_of_fund_sales_12M_10K  \\\n",
       "3016                   -0.626347                 -0.431731   \n",
       "2569                    0.181888                 -0.431731   \n",
       "\n",
       "      no_of_funds_Redemption_12M_10K  no_of_assetclass_sold_12M_1  \\\n",
       "3016                       -0.451524                    -0.784367   \n",
       "2569                        0.284471                     0.213785   \n",
       "\n",
       "      no_of_assetclass_redeemed_12M_1  no_of_assetclass_sales_12M_10K  \\\n",
       "3016                        -0.870084                       -0.539912   \n",
       "2569                         0.088964                       -0.539912   \n",
       "\n",
       "      no_of_assetclass_Redemption_12M_10K  No_of_fund_curr  No_of_asset_curr  \\\n",
       "3016                            -0.566298        -0.688081         -0.887018   \n",
       "2569                             0.770265         1.221427          3.897522   \n",
       "\n",
       "           AUM  sales_curr  sales_12M_2018  redemption_curr  redemption_12M  \\\n",
       "3016 -0.103503   -0.087693       -0.158849         0.090594        0.151819   \n",
       "2569  0.005228   -0.087693       -0.143764         0.041500        0.123349   \n",
       "\n",
       "      new_Fund_added_12M_2018  aum_AC_EQUITY  aum_AC_FIXED_INCOME_MUNI  \\\n",
       "3016                -0.412074      -0.020322                 -0.090999   \n",
       "2569                 0.418829       0.151346                 -0.064646   \n",
       "\n",
       "      aum_AC_FIXED_INCOME_TAXABLE  aum_AC_MONEY  aum_AC_MULTIPLE  \\\n",
       "3016                    -0.046796     -0.012455        -0.027474   \n",
       "2569                    -0.018608     -0.012455         0.109718   \n",
       "\n",
       "      aum_AC_PHYSICAL_COMMODITY  aum_AC_REAL_ESTATE  aum_AC_TARGET  aum_P_529  \\\n",
       "3016                  -0.044623           -0.029518      -0.039159  -0.082041   \n",
       "2569                   0.455268           -0.029518      -0.039159  -0.082041   \n",
       "\n",
       "      aum_P_ALT  aum_P_CEF  aum_P_ETF  aum_P_MF  aum_P_SMA  aum_P_UCITS  \\\n",
       "3016  -0.025459  -0.084761   -0.01501 -0.065685  -0.074575    -0.018967   \n",
       "2569  -0.025459  -0.043016   -0.01501 -0.070373   0.157046    -0.018967   \n",
       "\n",
       "      aum_P_UIT  \n",
       "3016  -0.069496  \n",
       "2569   0.002049  "
      ]
     },
     "execution_count": 49,
     "metadata": {},
     "output_type": "execute_result"
    }
   ],
   "source": [
    "X_train_prepared.head(2)"
   ]
  },
  {
   "cell_type": "code",
   "execution_count": 50,
   "metadata": {},
   "outputs": [
    {
     "data": {
      "text/plain": [
       "0    5623\n",
       "1    1880\n",
       "Name: new_Fund_added_12M_2019, dtype: int64"
      ]
     },
     "execution_count": 50,
     "metadata": {},
     "output_type": "execute_result"
    }
   ],
   "source": [
    "y_train_cl.value_counts()"
   ]
  },
  {
   "cell_type": "code",
   "execution_count": 51,
   "metadata": {},
   "outputs": [],
   "source": [
    "# instantiate SMOTENC\n",
    "smote = SMOTE(random_state=0)\n",
    "\n",
    "# balance data\n",
    "X_smote, y_smote = smote.fit_resample(X_train_prepared, y_train_cl)"
   ]
  },
  {
   "cell_type": "code",
   "execution_count": 52,
   "metadata": {},
   "outputs": [
    {
     "data": {
      "text/plain": [
       "1    5623\n",
       "0    5623\n",
       "Name: new_Fund_added_12M_2019, dtype: int64"
      ]
     },
     "execution_count": 52,
     "metadata": {},
     "output_type": "execute_result"
    }
   ],
   "source": [
    "y_smote.value_counts()"
   ]
  },
  {
   "cell_type": "code",
   "execution_count": 53,
   "metadata": {},
   "outputs": [
    {
     "name": "stdout",
     "output_type": "stream",
     "text": [
      "              precision    recall  f1-score   support\n",
      "\n",
      "           0       0.83      0.78      0.81      1861\n",
      "           1       0.46      0.54      0.50       641\n",
      "\n",
      "    accuracy                           0.72      2502\n",
      "   macro avg       0.65      0.66      0.65      2502\n",
      "weighted avg       0.74      0.72      0.73      2502\n",
      "\n"
     ]
    }
   ],
   "source": [
    "gbt_base2 = GradientBoostingClassifier()\n",
    "gbt_base2.fit(X_smote, y_smote)\n",
    "test_pred_class2 = gbt_base2.predict(X_test_prepared)\n",
    "print(classification_report(y_test_cl, test_pred_class2))"
   ]
  },
  {
   "cell_type": "markdown",
   "metadata": {},
   "source": [
    "# Scratch Work"
   ]
  },
  {
   "cell_type": "markdown",
   "metadata": {},
   "source": [
    "[Back to Top](#Index)\n",
    "## Lift Chart Evaluation"
   ]
  },
  {
   "cell_type": "code",
   "execution_count": null,
   "metadata": {},
   "outputs": [],
   "source": [
    "# conda install -yc conda-forge scikit-plot"
   ]
  },
  {
   "cell_type": "code",
   "execution_count": null,
   "metadata": {},
   "outputs": [],
   "source": [
    "import scikitplot as skplt"
   ]
  },
  {
   "cell_type": "code",
   "execution_count": null,
   "metadata": {},
   "outputs": [],
   "source": [
    "test_pred_proba = gbt_base2.predict_proba(X_test_prepared)"
   ]
  },
  {
   "cell_type": "code",
   "execution_count": null,
   "metadata": {},
   "outputs": [],
   "source": [
    "skplt.metrics.plot_lift_curve(y_test_cl, test_pred_proba);"
   ]
  },
  {
   "cell_type": "code",
   "execution_count": null,
   "metadata": {},
   "outputs": [],
   "source": []
  },
  {
   "cell_type": "markdown",
   "metadata": {},
   "source": [
    "[Back to Top](#Index)\n",
    "## Cross Validation"
   ]
  },
  {
   "cell_type": "code",
   "execution_count": null,
   "metadata": {},
   "outputs": [],
   "source": [
    "from sklearn.model_selection import cross_validate"
   ]
  },
  {
   "cell_type": "code",
   "execution_count": null,
   "metadata": {},
   "outputs": [],
   "source": [
    "-cross_validate(feat_pipe, X_train_prepared, y_train_reg, scoring='neg_root_mean_squared_error')['test_score']"
   ]
  },
  {
   "cell_type": "code",
   "execution_count": null,
   "metadata": {},
   "outputs": [],
   "source": [
    "def evaluate_model(model, X, y):\n",
    "    print(\"Cross Validation Scores:\")\n",
    "    print(cross_validate(model, X, y, scoring='neg_root_mean_squared_error')['test_score'])\n",
    "    print('-'*55)\n",
    "    preds = np.exp(model.predict(X))\n",
    "    lim = max(preds.max(), y.max())\n",
    "    fig, ax = plt.subplots(1,1,figsize=(7,5))\n",
    "    ax.scatter(x=y, y=preds, alpha=0.4)\n",
    "    ax.plot([0, 10000], [0, 10000])\n",
    "    ax.set_xlim([0, 10000])\n",
    "    ax.set_ylim([0, 10000])\n",
    "    ax.set_title(\"Actual vs Predicted - Regression\")\n",
    "    ax.set_xlabel(\"Actual\")\n",
    "    ax.set_ylabel(\"Predicted\");"
   ]
  },
  {
   "cell_type": "code",
   "execution_count": null,
   "metadata": {},
   "outputs": [],
   "source": [
    "evaluate_model(feat_pipe, X_train_prepared, y_train_reg)"
   ]
  },
  {
   "cell_type": "code",
   "execution_count": null,
   "metadata": {},
   "outputs": [],
   "source": [
    "y_train_reg_log = np.log(y_train_reg+1)\n",
    "y_test_reg_log = np.log(y_test_reg+1)"
   ]
  },
  {
   "cell_type": "code",
   "execution_count": null,
   "metadata": {},
   "outputs": [],
   "source": [
    "feat_pipe.fit(X_train_prepared, y_train_reg_log)"
   ]
  },
  {
   "cell_type": "code",
   "execution_count": null,
   "metadata": {},
   "outputs": [],
   "source": [
    "feat_pipe.predict(X_test_prepared)[0]"
   ]
  },
  {
   "cell_type": "code",
   "execution_count": null,
   "metadata": {},
   "outputs": [],
   "source": [
    "np.exp(1.5966611)"
   ]
  },
  {
   "cell_type": "code",
   "execution_count": null,
   "metadata": {},
   "outputs": [],
   "source": [
    "evaluate_model(feat_pipe, X_train, y_train_reg_log)"
   ]
  },
  {
   "cell_type": "code",
   "execution_count": null,
   "metadata": {},
   "outputs": [],
   "source": [
    "evaluate_model(feat_pipe, X_test, y_test_reg_log)"
   ]
  },
  {
   "cell_type": "markdown",
   "metadata": {},
   "source": [
    "[Back to Top](#Index)\n",
    "## Feature Engineering"
   ]
  },
  {
   "cell_type": "markdown",
   "metadata": {},
   "source": [
    "**What is feature engineering**?\n",
    "\n",
    "\"Coming up with features is difficult, time-consuming, requires expert knowledge. 'Applied machine learning' is basically feature engineering.\" - Andrew Ng\n",
    "\n",
    "Feature engineering is the term broadly applied to the creation and manipulation of features (variables) used in machine learning algorithms. Unless we're working with the same data over and over again, this isn't something we can automate. It will require creativity and a good, thorough understanding of our data.\n",
    "\n",
    "Regression results can change significantly depending on feature selection. Let's take a closer look at our features."
   ]
  },
  {
   "cell_type": "code",
   "execution_count": null,
   "metadata": {},
   "outputs": [],
   "source": [
    "X_train_prepared.corr().style.background_gradient().set_precision(2)"
   ]
  },
  {
   "cell_type": "code",
   "execution_count": null,
   "metadata": {},
   "outputs": [],
   "source": [
    "X_train_prepared.hist(bins=40, figsize=(16,10));"
   ]
  },
  {
   "cell_type": "markdown",
   "metadata": {},
   "source": [
    "[Back to Top](#Index)\n",
    "### Variable Inflation Factor (VIF)\n",
    "\n",
    "VIF measures the amount of multicollinearity in a set of multiple regressors, by evaluating how much the variance of the independent variable is inflated by it's interaction with other independent variables. VIF threshold of 5 to 10 are acceptable, but values above 10 are too high.  "
   ]
  },
  {
   "cell_type": "code",
   "execution_count": null,
   "metadata": {},
   "outputs": [],
   "source": [
    "from statsmodels.stats.outliers_influence import variance_inflation_factor\n",
    "from sklearn.base import BaseEstimator, TransformerMixin\n",
    "from sklearn.impute import SimpleImputer\n",
    "\n",
    "class ReduceVIF(BaseEstimator, TransformerMixin):\n",
    "    def __init__(self, thresh=10.0, impute=True, impute_strategy='median'):\n",
    "        # From looking at documentation, values between 5 and 10 are \"okay\".\n",
    "        # Above 10 is too high and so should be removed.\n",
    "        self.thresh = thresh\n",
    "        \n",
    "        # The statsmodel function will fail with NaN values, as such we have to impute them.\n",
    "        # By default we impute using the median value.\n",
    "        # This imputation could be taken out and added as part of an sklearn Pipeline.\n",
    "        if impute:\n",
    "            self.imputer = SimpleImputer(strategy=impute_strategy)\n",
    "\n",
    "    def fit(self, X, y=None):\n",
    "        print('ReduceVIF fit')\n",
    "        if hasattr(self, 'imputer'):\n",
    "            self.imputer.fit(X)\n",
    "        return self\n",
    "\n",
    "    def transform(self, X, y=None):\n",
    "        print('ReduceVIF transform')\n",
    "        columns = X.columns.tolist()\n",
    "        if hasattr(self, 'imputer'):\n",
    "            X = pd.DataFrame(self.imputer.transform(X), columns=columns)\n",
    "        return ReduceVIF.calculate_vif(X, self.thresh)\n",
    "\n",
    "    @staticmethod\n",
    "    def calculate_vif(X, thresh=5.0):\n",
    "        # Taken from https://stats.stackexchange.com/a/253620/53565 and modified\n",
    "        dropped=True\n",
    "        while dropped:\n",
    "            variables = X.columns\n",
    "            dropped = False\n",
    "            vif = [variance_inflation_factor(X[variables].values, X.columns.get_loc(var)) for var in X.columns]\n",
    "            \n",
    "            max_vif = max(vif)\n",
    "            if max_vif > thresh:\n",
    "                maxloc = vif.index(max_vif)\n",
    "                print(f'Dropping {X.columns[maxloc]} with vif={max_vif}')\n",
    "                X = X.drop([X.columns.tolist()[maxloc]], axis=1)\n",
    "                dropped=True\n",
    "        return X"
   ]
  },
  {
   "cell_type": "code",
   "execution_count": null,
   "metadata": {},
   "outputs": [],
   "source": [
    "funds = pd.concat([X_train_prepared, y_train_reg.to_frame()], axis=1)\n",
    "features = funds.columns.tolist()\n",
    "target = 'sales_12M_2019'"
   ]
  },
  {
   "cell_type": "code",
   "execution_count": null,
   "metadata": {},
   "outputs": [],
   "source": [
    "transformer = ReduceVIF()\n",
    "\n",
    "X_tr_vif = transformer.fit_transform(X_train_prepared, y_train_reg)\n",
    "X_tr_vif.head()"
   ]
  },
  {
   "cell_type": "markdown",
   "metadata": {},
   "source": [
    "[Back to Top](#Index)\n",
    "## Residuals"
   ]
  },
  {
   "cell_type": "code",
   "execution_count": null,
   "metadata": {},
   "outputs": [],
   "source": [
    "y_test_preds = feat_pipe.predict(X_test_prepared)"
   ]
  },
  {
   "cell_type": "code",
   "execution_count": null,
   "metadata": {},
   "outputs": [],
   "source": [
    "# get residuals\n",
    "residuals = y_test_preds - y_test_reg"
   ]
  },
  {
   "cell_type": "code",
   "execution_count": null,
   "metadata": {},
   "outputs": [],
   "source": [
    "# plot predictions vs residuals\n",
    "fig, axes = plt.subplots(2,2,figsize=(14,10))\n",
    "\n",
    "# plot scatter on upper right plot\n",
    "axes[0,0].scatter(x=y_test_preds, y=residuals, alpha=0.5)\n",
    "axes[0,0].set(xlabel=\"Residuals\",ylabel=\"Predictions\");\n",
    "\n",
    "# plot hist on upper left plot\n",
    "axes[0,1].hist(residuals, bins=50)\n",
    "axes[0,1].set(xlabel='Residuals', ylabel='Frequency');"
   ]
  },
  {
   "cell_type": "code",
   "execution_count": null,
   "metadata": {},
   "outputs": [],
   "source": [
    "from statsmodels.api import qqplot"
   ]
  },
  {
   "cell_type": "code",
   "execution_count": null,
   "metadata": {},
   "outputs": [],
   "source": [
    "axes[1,0].set_ylim([-3.5, 3.5])\n",
    "axes[1,0].set_xlim([-3.5, 3.5])"
   ]
  },
  {
   "cell_type": "code",
   "execution_count": null,
   "metadata": {},
   "outputs": [],
   "source": [
    "qqplot(residuals, fit=True, line='r', ax=axes[1,0])"
   ]
  },
  {
   "cell_type": "markdown",
   "metadata": {},
   "source": [
    "[Back to Top](#Index)\n",
    "## Model Interpretation"
   ]
  },
  {
   "cell_type": "code",
   "execution_count": null,
   "metadata": {},
   "outputs": [],
   "source": []
  },
  {
   "cell_type": "code",
   "execution_count": null,
   "metadata": {},
   "outputs": [],
   "source": []
  },
  {
   "cell_type": "code",
   "execution_count": null,
   "metadata": {},
   "outputs": [],
   "source": []
  },
  {
   "cell_type": "markdown",
   "metadata": {},
   "source": [
    "[Back to Top](#Index)\n",
    "## Condition number\n",
    "\n",
    "Numerical analysis has a notion of condition number, which measures how sensitive a function is to changes in the input, and how much error in the output results from an error in the input. In linear regression this number can be used to diagnose multicollinearity. "
   ]
  },
  {
   "cell_type": "code",
   "execution_count": null,
   "metadata": {},
   "outputs": [],
   "source": [
    "from numpy import linalg as LA\n",
    "from itertools import chain, combinations\n",
    "\n",
    "# Find all possible combinations of any length more than 2\n",
    "def all_subsets(set_arg):\n",
    "    return chain(*map(lambda x: combinations(set_arg, x), range(2, len(set_arg)+1)))\n",
    "\n",
    "funds = pd.concat([X_train_prepared, y_train_reg.to_frame()], axis=1)\n",
    "features = funds.columns.tolist() \n",
    "target = 'sales_12M_2019'\n",
    "\n",
    "cond_nums = {}\n",
    "for subset in all_subsets(features):\n",
    "    # checking that target varaible is included in the matrix\n",
    "    if target not in list(subset):\n",
    "        continue\n",
    "    cond_nums[', '.join(list(subset))] = LA.cond(funds[list(subset)])\n",
    "    \n",
    "sorted(cond_nums.items(), key=lambda x:x[1])"
   ]
  },
  {
   "cell_type": "code",
   "execution_count": null,
   "metadata": {},
   "outputs": [],
   "source": []
  },
  {
   "cell_type": "code",
   "execution_count": null,
   "metadata": {},
   "outputs": [],
   "source": []
  },
  {
   "cell_type": "code",
   "execution_count": null,
   "metadata": {},
   "outputs": [],
   "source": []
  },
  {
   "cell_type": "code",
   "execution_count": null,
   "metadata": {},
   "outputs": [],
   "source": []
  },
  {
   "cell_type": "code",
   "execution_count": null,
   "metadata": {},
   "outputs": [],
   "source": []
  }
 ],
 "metadata": {
  "kernelspec": {
   "display_name": "Python 3",
   "language": "python",
   "name": "python3"
  },
  "language_info": {
   "codemirror_mode": {
    "name": "ipython",
    "version": 3
   },
   "file_extension": ".py",
   "mimetype": "text/x-python",
   "name": "python",
   "nbconvert_exporter": "python",
   "pygments_lexer": "ipython3",
   "version": "3.8.5"
  }
 },
 "nbformat": 4,
 "nbformat_minor": 4
}
