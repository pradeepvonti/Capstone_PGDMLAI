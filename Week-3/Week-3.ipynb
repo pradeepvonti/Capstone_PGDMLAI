{
 "cells": [
  {
   "cell_type": "markdown",
   "metadata": {},
   "source": [
    "# Capstone Week 3\n",
    "---"
   ]
  },
  {
   "cell_type": "markdown",
   "metadata": {},
   "source": [
    "# Index\n",
    "- [Capstone Objectives](#Capstone-Objectives)\n",
    "- [Read in Data](#Read-in-Data)\n",
    "    - [Merge 2018 and 2019](#Merge-2018-and-2019)\n",
    "    - [Make advisor dictionary mapper](#Make-advisor-dictionary-mapper)\n",
    "- [Data Cleaning](#Data-Cleaning)\n",
    "    - [Custom Cleaning Functions](#Custom-Cleaning-Functions)\n",
    "    - [Create Cleaning Pipeline](#Create-Cleaning-Pipeline)\n",
    "- [Model building](#Model-building)\n",
    "- [Make predictions](#Make-predictions)\n",
    "- [Model persistance](#Model-persistance)\n",
    "- [Residuals](#Residuals)\n",
    "- [Model Interpretation](#Model-Interpretation)"
   ]
  },
  {
   "cell_type": "markdown",
   "metadata": {},
   "source": [
    "# Capstone Objectives\n",
    "- Assist sales and marketing by improving their targeting\n",
    "- Predict sales for 2019 using the data for 2018"
   ]
  },
  {
   "cell_type": "code",
   "execution_count": 1,
   "metadata": {},
   "outputs": [],
   "source": [
    "import numpy as np\n",
    "import pandas as pd\n",
    "import matplotlib.pyplot as plt\n",
    "\n",
    "from sklearn.model_selection import train_test_split\n",
    "from sklearn.preprocessing import StandardScaler\n",
    "\n",
    "pd.set_option('display.max_columns', 50)"
   ]
  },
  {
   "cell_type": "markdown",
   "metadata": {},
   "source": [
    "[Back to Top](#Index)\n",
    "# Read in Data"
   ]
  },
  {
   "cell_type": "code",
   "execution_count": 2,
   "metadata": {},
   "outputs": [],
   "source": [
    "df18 = pd.read_excel(\"../Transaction Data.xlsx\", sheet_name=\"Transactions18\")\n",
    "df19 = pd.read_excel(\"../Transaction Data.xlsx\", sheet_name=\"Transactions19\")"
   ]
  },
  {
   "cell_type": "markdown",
   "metadata": {},
   "source": [
    "## Merge 2018 and 2019"
   ]
  },
  {
   "cell_type": "code",
   "execution_count": 3,
   "metadata": {},
   "outputs": [
    {
     "name": "stdout",
     "output_type": "stream",
     "text": [
      "(10005, 41)\n"
     ]
    }
   ],
   "source": [
    "df = pd.merge(\n",
    "    df18, \n",
    "    df19, \n",
    "    on='CONTACT_ID',\n",
    "    suffixes=['_2018', '_2019']\n",
    ")\n",
    "print(df.shape)"
   ]
  },
  {
   "cell_type": "code",
   "execution_count": 4,
   "metadata": {},
   "outputs": [
    {
     "data": {
      "text/html": [
       "<div>\n",
       "<style scoped>\n",
       "    .dataframe tbody tr th:only-of-type {\n",
       "        vertical-align: middle;\n",
       "    }\n",
       "\n",
       "    .dataframe tbody tr th {\n",
       "        vertical-align: top;\n",
       "    }\n",
       "\n",
       "    .dataframe thead th {\n",
       "        text-align: right;\n",
       "    }\n",
       "</style>\n",
       "<table border=\"1\" class=\"dataframe\">\n",
       "  <thead>\n",
       "    <tr style=\"text-align: right;\">\n",
       "      <th></th>\n",
       "      <th>CONTACT_ID</th>\n",
       "      <th>no_of_sales_12M_1</th>\n",
       "      <th>no_of_Redemption_12M_1</th>\n",
       "      <th>no_of_sales_12M_10K</th>\n",
       "      <th>no_of_Redemption_12M_10K</th>\n",
       "      <th>no_of_funds_sold_12M_1</th>\n",
       "      <th>no_of_funds_redeemed_12M_1</th>\n",
       "      <th>no_of_fund_sales_12M_10K</th>\n",
       "      <th>no_of_funds_Redemption_12M_10K</th>\n",
       "      <th>no_of_assetclass_sold_12M_1</th>\n",
       "      <th>no_of_assetclass_redeemed_12M_1</th>\n",
       "      <th>no_of_assetclass_sales_12M_10K</th>\n",
       "      <th>no_of_assetclass_Redemption_12M_10K</th>\n",
       "      <th>No_of_fund_curr</th>\n",
       "      <th>No_of_asset_curr</th>\n",
       "      <th>AUM</th>\n",
       "      <th>sales_curr</th>\n",
       "      <th>sales_12M_2018</th>\n",
       "      <th>redemption_curr</th>\n",
       "      <th>redemption_12M</th>\n",
       "      <th>new_Fund_added_12M_2018</th>\n",
       "      <th>aum_AC_EQUITY</th>\n",
       "      <th>aum_AC_FIXED_INCOME_MUNI</th>\n",
       "      <th>aum_AC_FIXED_INCOME_TAXABLE</th>\n",
       "      <th>aum_AC_MONEY</th>\n",
       "      <th>aum_AC_MULTIPLE</th>\n",
       "      <th>aum_AC_PHYSICAL_COMMODITY</th>\n",
       "      <th>aum_AC_REAL_ESTATE</th>\n",
       "      <th>aum_AC_TARGET</th>\n",
       "      <th>aum_P_529</th>\n",
       "      <th>aum_P_ALT</th>\n",
       "      <th>aum_P_CEF</th>\n",
       "      <th>aum_P_ETF</th>\n",
       "      <th>aum_P_MF</th>\n",
       "      <th>aum_P_SMA</th>\n",
       "      <th>aum_P_UCITS</th>\n",
       "      <th>aum_P_UIT</th>\n",
       "      <th>refresh_date_2018</th>\n",
       "      <th>sales_12M_2019</th>\n",
       "      <th>new_Fund_added_12M_2019</th>\n",
       "      <th>refresh_date_2019</th>\n",
       "    </tr>\n",
       "  </thead>\n",
       "  <tbody>\n",
       "    <tr>\n",
       "      <th>0</th>\n",
       "      <td>0047433</td>\n",
       "      <td>21.0</td>\n",
       "      <td>38.0</td>\n",
       "      <td>NaN</td>\n",
       "      <td>1.0</td>\n",
       "      <td>5.0</td>\n",
       "      <td>5.0</td>\n",
       "      <td>NaN</td>\n",
       "      <td>1.0</td>\n",
       "      <td>2.0</td>\n",
       "      <td>2.0</td>\n",
       "      <td>NaN</td>\n",
       "      <td>1.0</td>\n",
       "      <td>8.0</td>\n",
       "      <td>1.0</td>\n",
       "      <td>237480.11</td>\n",
       "      <td>250.0</td>\n",
       "      <td>19682.0</td>\n",
       "      <td>-1496.745</td>\n",
       "      <td>-102496.165</td>\n",
       "      <td>NaN</td>\n",
       "      <td>-47342.32</td>\n",
       "      <td>284737.93</td>\n",
       "      <td>84.5</td>\n",
       "      <td>0.0</td>\n",
       "      <td>0.0</td>\n",
       "      <td>0.0</td>\n",
       "      <td>0.0</td>\n",
       "      <td>0.0</td>\n",
       "      <td>0.0</td>\n",
       "      <td>0.0</td>\n",
       "      <td>0.0</td>\n",
       "      <td>0.0</td>\n",
       "      <td>122866.04</td>\n",
       "      <td>114614.07</td>\n",
       "      <td>0.0</td>\n",
       "      <td>0.0</td>\n",
       "      <td>2018-12-31</td>\n",
       "      <td>18633.105</td>\n",
       "      <td>NaN</td>\n",
       "      <td>2019-12-31</td>\n",
       "    </tr>\n",
       "    <tr>\n",
       "      <th>1</th>\n",
       "      <td>4461312</td>\n",
       "      <td>NaN</td>\n",
       "      <td>NaN</td>\n",
       "      <td>NaN</td>\n",
       "      <td>NaN</td>\n",
       "      <td>NaN</td>\n",
       "      <td>NaN</td>\n",
       "      <td>NaN</td>\n",
       "      <td>NaN</td>\n",
       "      <td>NaN</td>\n",
       "      <td>NaN</td>\n",
       "      <td>NaN</td>\n",
       "      <td>NaN</td>\n",
       "      <td>1.0</td>\n",
       "      <td>1.0</td>\n",
       "      <td>19629.00</td>\n",
       "      <td>NaN</td>\n",
       "      <td>NaN</td>\n",
       "      <td>NaN</td>\n",
       "      <td>NaN</td>\n",
       "      <td>NaN</td>\n",
       "      <td>0.00</td>\n",
       "      <td>19629.00</td>\n",
       "      <td>0.0</td>\n",
       "      <td>0.0</td>\n",
       "      <td>0.0</td>\n",
       "      <td>0.0</td>\n",
       "      <td>0.0</td>\n",
       "      <td>0.0</td>\n",
       "      <td>0.0</td>\n",
       "      <td>0.0</td>\n",
       "      <td>0.0</td>\n",
       "      <td>0.0</td>\n",
       "      <td>19629.00</td>\n",
       "      <td>0.00</td>\n",
       "      <td>0.0</td>\n",
       "      <td>0.0</td>\n",
       "      <td>2018-12-31</td>\n",
       "      <td>NaN</td>\n",
       "      <td>NaN</td>\n",
       "      <td>2019-12-31</td>\n",
       "    </tr>\n",
       "    <tr>\n",
       "      <th>2</th>\n",
       "      <td>4491079</td>\n",
       "      <td>NaN</td>\n",
       "      <td>NaN</td>\n",
       "      <td>NaN</td>\n",
       "      <td>NaN</td>\n",
       "      <td>NaN</td>\n",
       "      <td>NaN</td>\n",
       "      <td>NaN</td>\n",
       "      <td>NaN</td>\n",
       "      <td>NaN</td>\n",
       "      <td>NaN</td>\n",
       "      <td>NaN</td>\n",
       "      <td>NaN</td>\n",
       "      <td>NaN</td>\n",
       "      <td>NaN</td>\n",
       "      <td>1758.70</td>\n",
       "      <td>NaN</td>\n",
       "      <td>NaN</td>\n",
       "      <td>NaN</td>\n",
       "      <td>NaN</td>\n",
       "      <td>NaN</td>\n",
       "      <td>0.00</td>\n",
       "      <td>1758.70</td>\n",
       "      <td>0.0</td>\n",
       "      <td>0.0</td>\n",
       "      <td>0.0</td>\n",
       "      <td>0.0</td>\n",
       "      <td>0.0</td>\n",
       "      <td>0.0</td>\n",
       "      <td>0.0</td>\n",
       "      <td>0.0</td>\n",
       "      <td>0.0</td>\n",
       "      <td>0.0</td>\n",
       "      <td>1758.70</td>\n",
       "      <td>0.00</td>\n",
       "      <td>0.0</td>\n",
       "      <td>0.0</td>\n",
       "      <td>2018-12-31</td>\n",
       "      <td>NaN</td>\n",
       "      <td>NaN</td>\n",
       "      <td>2019-12-31</td>\n",
       "    </tr>\n",
       "    <tr>\n",
       "      <th>3</th>\n",
       "      <td>0107408</td>\n",
       "      <td>20.0</td>\n",
       "      <td>NaN</td>\n",
       "      <td>2.0</td>\n",
       "      <td>NaN</td>\n",
       "      <td>1.0</td>\n",
       "      <td>NaN</td>\n",
       "      <td>1.0</td>\n",
       "      <td>NaN</td>\n",
       "      <td>1.0</td>\n",
       "      <td>NaN</td>\n",
       "      <td>1.0</td>\n",
       "      <td>NaN</td>\n",
       "      <td>1.0</td>\n",
       "      <td>1.0</td>\n",
       "      <td>57943.00</td>\n",
       "      <td>5459.0</td>\n",
       "      <td>52484.0</td>\n",
       "      <td>NaN</td>\n",
       "      <td>NaN</td>\n",
       "      <td>1.0</td>\n",
       "      <td>0.00</td>\n",
       "      <td>0.00</td>\n",
       "      <td>57943.0</td>\n",
       "      <td>0.0</td>\n",
       "      <td>0.0</td>\n",
       "      <td>0.0</td>\n",
       "      <td>0.0</td>\n",
       "      <td>0.0</td>\n",
       "      <td>0.0</td>\n",
       "      <td>0.0</td>\n",
       "      <td>0.0</td>\n",
       "      <td>0.0</td>\n",
       "      <td>57943.00</td>\n",
       "      <td>0.00</td>\n",
       "      <td>0.0</td>\n",
       "      <td>0.0</td>\n",
       "      <td>2018-12-31</td>\n",
       "      <td>93212.000</td>\n",
       "      <td>1.0</td>\n",
       "      <td>2019-12-31</td>\n",
       "    </tr>\n",
       "    <tr>\n",
       "      <th>4</th>\n",
       "      <td>85101140503769936458</td>\n",
       "      <td>NaN</td>\n",
       "      <td>NaN</td>\n",
       "      <td>NaN</td>\n",
       "      <td>NaN</td>\n",
       "      <td>NaN</td>\n",
       "      <td>NaN</td>\n",
       "      <td>NaN</td>\n",
       "      <td>NaN</td>\n",
       "      <td>NaN</td>\n",
       "      <td>NaN</td>\n",
       "      <td>NaN</td>\n",
       "      <td>NaN</td>\n",
       "      <td>NaN</td>\n",
       "      <td>NaN</td>\n",
       "      <td>-8573.59</td>\n",
       "      <td>NaN</td>\n",
       "      <td>NaN</td>\n",
       "      <td>NaN</td>\n",
       "      <td>NaN</td>\n",
       "      <td>NaN</td>\n",
       "      <td>-8573.59</td>\n",
       "      <td>0.00</td>\n",
       "      <td>0.0</td>\n",
       "      <td>0.0</td>\n",
       "      <td>0.0</td>\n",
       "      <td>0.0</td>\n",
       "      <td>0.0</td>\n",
       "      <td>0.0</td>\n",
       "      <td>0.0</td>\n",
       "      <td>0.0</td>\n",
       "      <td>0.0</td>\n",
       "      <td>0.0</td>\n",
       "      <td>-8573.59</td>\n",
       "      <td>0.00</td>\n",
       "      <td>0.0</td>\n",
       "      <td>0.0</td>\n",
       "      <td>2018-12-31</td>\n",
       "      <td>NaN</td>\n",
       "      <td>NaN</td>\n",
       "      <td>2019-12-31</td>\n",
       "    </tr>\n",
       "  </tbody>\n",
       "</table>\n",
       "</div>"
      ],
      "text/plain": [
       "             CONTACT_ID  no_of_sales_12M_1  no_of_Redemption_12M_1  \\\n",
       "0               0047433               21.0                    38.0   \n",
       "1               4461312                NaN                     NaN   \n",
       "2               4491079                NaN                     NaN   \n",
       "3               0107408               20.0                     NaN   \n",
       "4  85101140503769936458                NaN                     NaN   \n",
       "\n",
       "   no_of_sales_12M_10K  no_of_Redemption_12M_10K  no_of_funds_sold_12M_1  \\\n",
       "0                  NaN                       1.0                     5.0   \n",
       "1                  NaN                       NaN                     NaN   \n",
       "2                  NaN                       NaN                     NaN   \n",
       "3                  2.0                       NaN                     1.0   \n",
       "4                  NaN                       NaN                     NaN   \n",
       "\n",
       "   no_of_funds_redeemed_12M_1  no_of_fund_sales_12M_10K  \\\n",
       "0                         5.0                       NaN   \n",
       "1                         NaN                       NaN   \n",
       "2                         NaN                       NaN   \n",
       "3                         NaN                       1.0   \n",
       "4                         NaN                       NaN   \n",
       "\n",
       "   no_of_funds_Redemption_12M_10K  no_of_assetclass_sold_12M_1  \\\n",
       "0                             1.0                          2.0   \n",
       "1                             NaN                          NaN   \n",
       "2                             NaN                          NaN   \n",
       "3                             NaN                          1.0   \n",
       "4                             NaN                          NaN   \n",
       "\n",
       "   no_of_assetclass_redeemed_12M_1  no_of_assetclass_sales_12M_10K  \\\n",
       "0                              2.0                             NaN   \n",
       "1                              NaN                             NaN   \n",
       "2                              NaN                             NaN   \n",
       "3                              NaN                             1.0   \n",
       "4                              NaN                             NaN   \n",
       "\n",
       "   no_of_assetclass_Redemption_12M_10K  No_of_fund_curr  No_of_asset_curr  \\\n",
       "0                                  1.0              8.0               1.0   \n",
       "1                                  NaN              1.0               1.0   \n",
       "2                                  NaN              NaN               NaN   \n",
       "3                                  NaN              1.0               1.0   \n",
       "4                                  NaN              NaN               NaN   \n",
       "\n",
       "         AUM  sales_curr  sales_12M_2018  redemption_curr  redemption_12M  \\\n",
       "0  237480.11       250.0         19682.0        -1496.745     -102496.165   \n",
       "1   19629.00         NaN             NaN              NaN             NaN   \n",
       "2    1758.70         NaN             NaN              NaN             NaN   \n",
       "3   57943.00      5459.0         52484.0              NaN             NaN   \n",
       "4   -8573.59         NaN             NaN              NaN             NaN   \n",
       "\n",
       "   new_Fund_added_12M_2018  aum_AC_EQUITY  aum_AC_FIXED_INCOME_MUNI  \\\n",
       "0                      NaN      -47342.32                 284737.93   \n",
       "1                      NaN           0.00                  19629.00   \n",
       "2                      NaN           0.00                   1758.70   \n",
       "3                      1.0           0.00                      0.00   \n",
       "4                      NaN       -8573.59                      0.00   \n",
       "\n",
       "   aum_AC_FIXED_INCOME_TAXABLE  aum_AC_MONEY  aum_AC_MULTIPLE  \\\n",
       "0                         84.5           0.0              0.0   \n",
       "1                          0.0           0.0              0.0   \n",
       "2                          0.0           0.0              0.0   \n",
       "3                      57943.0           0.0              0.0   \n",
       "4                          0.0           0.0              0.0   \n",
       "\n",
       "   aum_AC_PHYSICAL_COMMODITY  aum_AC_REAL_ESTATE  aum_AC_TARGET  aum_P_529  \\\n",
       "0                        0.0                 0.0            0.0        0.0   \n",
       "1                        0.0                 0.0            0.0        0.0   \n",
       "2                        0.0                 0.0            0.0        0.0   \n",
       "3                        0.0                 0.0            0.0        0.0   \n",
       "4                        0.0                 0.0            0.0        0.0   \n",
       "\n",
       "   aum_P_ALT  aum_P_CEF  aum_P_ETF   aum_P_MF  aum_P_SMA  aum_P_UCITS  \\\n",
       "0        0.0        0.0        0.0  122866.04  114614.07          0.0   \n",
       "1        0.0        0.0        0.0   19629.00       0.00          0.0   \n",
       "2        0.0        0.0        0.0    1758.70       0.00          0.0   \n",
       "3        0.0        0.0        0.0   57943.00       0.00          0.0   \n",
       "4        0.0        0.0        0.0   -8573.59       0.00          0.0   \n",
       "\n",
       "   aum_P_UIT refresh_date_2018  sales_12M_2019  new_Fund_added_12M_2019  \\\n",
       "0        0.0        2018-12-31       18633.105                      NaN   \n",
       "1        0.0        2018-12-31             NaN                      NaN   \n",
       "2        0.0        2018-12-31             NaN                      NaN   \n",
       "3        0.0        2018-12-31       93212.000                      1.0   \n",
       "4        0.0        2018-12-31             NaN                      NaN   \n",
       "\n",
       "  refresh_date_2019  \n",
       "0        2019-12-31  \n",
       "1        2019-12-31  \n",
       "2        2019-12-31  \n",
       "3        2019-12-31  \n",
       "4        2019-12-31  "
      ]
     },
     "execution_count": 4,
     "metadata": {},
     "output_type": "execute_result"
    }
   ],
   "source": [
    "df.head()"
   ]
  },
  {
   "cell_type": "markdown",
   "metadata": {},
   "source": [
    "## Make advisor dictionary mapper"
   ]
  },
  {
   "cell_type": "code",
   "execution_count": 5,
   "metadata": {},
   "outputs": [],
   "source": [
    "adviser_lookup = {idx: contact_id for idx, contact_id in enumerate(df['CONTACT_ID'])}"
   ]
  },
  {
   "cell_type": "code",
   "execution_count": 6,
   "metadata": {},
   "outputs": [
    {
     "data": {
      "text/plain": [
       "'85201142414218755394'"
      ]
     },
     "execution_count": 6,
     "metadata": {},
     "output_type": "execute_result"
    }
   ],
   "source": [
    "adviser_lookup[123]"
   ]
  },
  {
   "cell_type": "markdown",
   "metadata": {},
   "source": [
    "[Back to Top](#Index)\n",
    "# Data Cleaning"
   ]
  },
  {
   "cell_type": "code",
   "execution_count": 7,
   "metadata": {},
   "outputs": [],
   "source": [
    "# make a variable to keep all of the columns we want to drop\n",
    "COLS_TO_DROP = [\n",
    "    'refresh_date_2019', 'refresh_date_2018', 'CONTACT_ID', \n",
    "]\n",
    "\n",
    "COLS_TO_KEEP = [\n",
    "    'no_of_sales_12M_1', 'no_of_Redemption_12M_1', 'no_of_sales_12M_10K',\n",
    "    'no_of_Redemption_12M_10K', 'no_of_funds_sold_12M_1',\n",
    "    'no_of_funds_redeemed_12M_1', 'no_of_fund_sales_12M_10K',\n",
    "    'no_of_funds_Redemption_12M_10K', 'no_of_assetclass_sold_12M_1',\n",
    "    'no_of_assetclass_redeemed_12M_1', 'no_of_assetclass_sales_12M_10K',\n",
    "    'no_of_assetclass_Redemption_12M_10K', 'No_of_fund_curr',\n",
    "    'No_of_asset_curr', 'AUM', 'sales_curr', 'sales_12M_2018',\n",
    "    'redemption_curr', 'redemption_12M', 'new_Fund_added_12M_2018',\n",
    "    'aum_AC_EQUITY', 'aum_AC_FIXED_INCOME_MUNI',\n",
    "    'aum_AC_FIXED_INCOME_TAXABLE', 'aum_AC_MONEY', 'aum_AC_MULTIPLE',\n",
    "    'aum_AC_PHYSICAL_COMMODITY', 'aum_AC_REAL_ESTATE', 'aum_AC_TARGET',\n",
    "    'aum_P_529', 'aum_P_ALT', 'aum_P_CEF', 'aum_P_ETF', 'aum_P_MF',\n",
    "    'aum_P_SMA', 'aum_P_UCITS', 'aum_P_UIT'\n",
    "]"
   ]
  },
  {
   "cell_type": "code",
   "execution_count": 8,
   "metadata": {},
   "outputs": [],
   "source": [
    "X = df.drop(['sales_12M_2019', 'new_Fund_added_12M_2019'], axis=1)\n",
    "y = df['sales_12M_2019']"
   ]
  },
  {
   "cell_type": "code",
   "execution_count": 9,
   "metadata": {},
   "outputs": [],
   "source": [
    "X_train, X_test, y_train, y_test = train_test_split(X, y, test_size=0.25, random_state=24)"
   ]
  },
  {
   "cell_type": "markdown",
   "metadata": {},
   "source": [
    "## Custom Cleaning Functions"
   ]
  },
  {
   "cell_type": "code",
   "execution_count": 10,
   "metadata": {},
   "outputs": [],
   "source": [
    "def extract_columns(df):\n",
    "    '''extract out columns not listed in COLS_TO_DROP variable'''\n",
    "    cols_to_keep = [col for col in df.columns if col not in COLS_TO_DROP]\n",
    "    return df.loc[:, cols_to_keep].copy()\n",
    "\n",
    "\n",
    "def fillna_values(df):\n",
    "    '''fill nan values with zero'''\n",
    "    if isinstance(df, type(pd.Series(dtype='float64'))):\n",
    "        return df.fillna(0)\n",
    "    elif isinstance(df, type(pd.DataFrame())):\n",
    "        num_df = df.select_dtypes(include=['number']).fillna(0)\n",
    "        non_num_df = df.select_dtypes(exclude=['number'])\n",
    "        return pd.concat([num_df, non_num_df], axis=1)\n",
    "    else:\n",
    "        return np.nan_to_num(df)"
   ]
  },
  {
   "cell_type": "code",
   "execution_count": 11,
   "metadata": {},
   "outputs": [],
   "source": [
    "# fillna_values.transform(X_train)"
   ]
  },
  {
   "cell_type": "markdown",
   "metadata": {},
   "source": [
    "[Back to Top](#Index)\n",
    "## Create Cleaning Pipeline"
   ]
  },
  {
   "cell_type": "code",
   "execution_count": 12,
   "metadata": {},
   "outputs": [],
   "source": [
    "from sklearn.pipeline import Pipeline\n",
    "from sklearn.preprocessing import FunctionTransformer"
   ]
  },
  {
   "cell_type": "code",
   "execution_count": 13,
   "metadata": {},
   "outputs": [],
   "source": [
    "extract_columns_trans = FunctionTransformer(extract_columns)\n",
    "fillna_values_trans = FunctionTransformer(fillna_values)"
   ]
  },
  {
   "cell_type": "markdown",
   "metadata": {},
   "source": [
    "Make pipeline for target variable"
   ]
  },
  {
   "cell_type": "code",
   "execution_count": 14,
   "metadata": {},
   "outputs": [],
   "source": [
    "targ_pipe = Pipeline([\n",
    "    ('fillna_values_trans', fillna_values_trans),\n",
    "#     ('negative_value_trans', negative_value_trans)\n",
    "])"
   ]
  },
  {
   "cell_type": "code",
   "execution_count": 15,
   "metadata": {},
   "outputs": [],
   "source": [
    "y_train = targ_pipe.fit_transform(y_train.values.reshape(-1,1)) # fit and transform TRAINING"
   ]
  },
  {
   "cell_type": "code",
   "execution_count": 16,
   "metadata": {},
   "outputs": [],
   "source": [
    "y_train = pd.Series(y_train.flatten(), index=X_train.index)"
   ]
  },
  {
   "cell_type": "code",
   "execution_count": 17,
   "metadata": {},
   "outputs": [],
   "source": [
    "y_test = pd.Series(targ_pipe.transform(y_test.values.reshape(-1,1)).flatten(), index=X_test.index) # transform only TESTING"
   ]
  },
  {
   "cell_type": "code",
   "execution_count": 18,
   "metadata": {},
   "outputs": [
    {
     "data": {
      "text/plain": [
       "2052         0.000\n",
       "2758      5055.190\n",
       "4334         0.000\n",
       "9047    100777.230\n",
       "7001     22500.000\n",
       "           ...    \n",
       "5527         0.000\n",
       "3619         0.000\n",
       "9819    372569.315\n",
       "7303         0.000\n",
       "2840     97081.830\n",
       "Length: 2502, dtype: float64"
      ]
     },
     "execution_count": 18,
     "metadata": {},
     "output_type": "execute_result"
    }
   ],
   "source": [
    "y_test"
   ]
  },
  {
   "cell_type": "markdown",
   "metadata": {},
   "source": [
    "Make pipeline for features"
   ]
  },
  {
   "cell_type": "code",
   "execution_count": 19,
   "metadata": {},
   "outputs": [],
   "source": [
    "feat_pipe = Pipeline([\n",
    "    ('extract_columns_trans', extract_columns_trans),\n",
    "    ('fillna_values_trans', fillna_values_trans),\n",
    "    ('StandardScaler', StandardScaler()),\n",
    "])"
   ]
  },
  {
   "cell_type": "code",
   "execution_count": 20,
   "metadata": {},
   "outputs": [
    {
     "data": {
      "text/plain": [
       "array([[-0.13132686, -0.10041755, -0.21064088, -0.19865712, -0.15343695,\n",
       "        -0.62678711, -0.43000009, -0.44180383,  0.20146207, -0.86803317,\n",
       "        -0.53463025, -0.5620389 , -0.37248773,  0.06554336, -0.0889493 ,\n",
       "        -0.08324658, -0.15460596,  0.09041682,  0.15624596,  0.43684362,\n",
       "        -0.02649335, -0.07060094, -0.05980054, -0.01245516, -0.02380215,\n",
       "        -0.04182124, -0.03765524, -0.04000228, -0.07036559, -0.03062799,\n",
       "        -0.09354653, -0.01848494, -0.0563512 , -0.05793289, -0.01655909,\n",
       "        -0.07003327],\n",
       "       [ 0.06459803, -0.06813442, -0.21064088, -0.08744056,  1.9542844 ,\n",
       "         1.39940146, -0.43000009,  0.29680003,  1.18812652,  1.03436288,\n",
       "        -0.53463025,  0.77753476,  3.17786794,  1.01858956, -0.12450774,\n",
       "        -0.08221872, -0.13964123,  0.09041682,  0.07167552,  3.84838427,\n",
       "         0.05015345, -0.16682196, -0.05980054, -0.01245516, -0.02380215,\n",
       "        -0.04182124, -0.03765524,  0.04765053,  1.12151599, -0.03062799,\n",
       "        -0.09354653, -0.01848494, -0.16069629, -0.158246  , -0.01655909,\n",
       "         3.26962865]])"
      ]
     },
     "execution_count": 20,
     "metadata": {},
     "output_type": "execute_result"
    }
   ],
   "source": [
    "train_array = feat_pipe.fit(X_train, y_train).transform(X_train)\n",
    "train_array[:2]"
   ]
  },
  {
   "cell_type": "markdown",
   "metadata": {},
   "source": [
    "Convert the preprocessed numpy array back to pandas dataframe"
   ]
  },
  {
   "cell_type": "code",
   "execution_count": 21,
   "metadata": {},
   "outputs": [],
   "source": [
    "X_train_prepared = pd.DataFrame(\n",
    "    train_array,\n",
    "    index=X_train.index,\n",
    "    columns=COLS_TO_KEEP\n",
    ")"
   ]
  },
  {
   "cell_type": "code",
   "execution_count": 22,
   "metadata": {},
   "outputs": [
    {
     "data": {
      "text/html": [
       "<div>\n",
       "<style scoped>\n",
       "    .dataframe tbody tr th:only-of-type {\n",
       "        vertical-align: middle;\n",
       "    }\n",
       "\n",
       "    .dataframe tbody tr th {\n",
       "        vertical-align: top;\n",
       "    }\n",
       "\n",
       "    .dataframe thead th {\n",
       "        text-align: right;\n",
       "    }\n",
       "</style>\n",
       "<table border=\"1\" class=\"dataframe\">\n",
       "  <thead>\n",
       "    <tr style=\"text-align: right;\">\n",
       "      <th></th>\n",
       "      <th>no_of_sales_12M_1</th>\n",
       "      <th>no_of_Redemption_12M_1</th>\n",
       "      <th>no_of_sales_12M_10K</th>\n",
       "      <th>no_of_Redemption_12M_10K</th>\n",
       "      <th>no_of_funds_sold_12M_1</th>\n",
       "      <th>no_of_funds_redeemed_12M_1</th>\n",
       "      <th>no_of_fund_sales_12M_10K</th>\n",
       "      <th>no_of_funds_Redemption_12M_10K</th>\n",
       "      <th>no_of_assetclass_sold_12M_1</th>\n",
       "      <th>no_of_assetclass_redeemed_12M_1</th>\n",
       "      <th>no_of_assetclass_sales_12M_10K</th>\n",
       "      <th>no_of_assetclass_Redemption_12M_10K</th>\n",
       "      <th>No_of_fund_curr</th>\n",
       "      <th>No_of_asset_curr</th>\n",
       "      <th>AUM</th>\n",
       "      <th>sales_curr</th>\n",
       "      <th>sales_12M_2018</th>\n",
       "      <th>redemption_curr</th>\n",
       "      <th>redemption_12M</th>\n",
       "      <th>new_Fund_added_12M_2018</th>\n",
       "      <th>aum_AC_EQUITY</th>\n",
       "      <th>aum_AC_FIXED_INCOME_MUNI</th>\n",
       "      <th>aum_AC_FIXED_INCOME_TAXABLE</th>\n",
       "      <th>aum_AC_MONEY</th>\n",
       "      <th>aum_AC_MULTIPLE</th>\n",
       "      <th>aum_AC_PHYSICAL_COMMODITY</th>\n",
       "      <th>aum_AC_REAL_ESTATE</th>\n",
       "      <th>aum_AC_TARGET</th>\n",
       "      <th>aum_P_529</th>\n",
       "      <th>aum_P_ALT</th>\n",
       "      <th>aum_P_CEF</th>\n",
       "      <th>aum_P_ETF</th>\n",
       "      <th>aum_P_MF</th>\n",
       "      <th>aum_P_SMA</th>\n",
       "      <th>aum_P_UCITS</th>\n",
       "      <th>aum_P_UIT</th>\n",
       "    </tr>\n",
       "  </thead>\n",
       "  <tbody>\n",
       "    <tr>\n",
       "      <th>4081</th>\n",
       "      <td>-0.131327</td>\n",
       "      <td>-0.100418</td>\n",
       "      <td>-0.210641</td>\n",
       "      <td>-0.198657</td>\n",
       "      <td>-0.153437</td>\n",
       "      <td>-0.626787</td>\n",
       "      <td>-0.430000</td>\n",
       "      <td>-0.441804</td>\n",
       "      <td>0.201462</td>\n",
       "      <td>-0.868033</td>\n",
       "      <td>-0.534630</td>\n",
       "      <td>-0.562039</td>\n",
       "      <td>-0.372488</td>\n",
       "      <td>0.065543</td>\n",
       "      <td>-0.088949</td>\n",
       "      <td>-0.083247</td>\n",
       "      <td>-0.154606</td>\n",
       "      <td>0.090417</td>\n",
       "      <td>0.156246</td>\n",
       "      <td>0.436844</td>\n",
       "      <td>-0.026493</td>\n",
       "      <td>-0.070601</td>\n",
       "      <td>-0.059801</td>\n",
       "      <td>-0.012455</td>\n",
       "      <td>-0.023802</td>\n",
       "      <td>-0.041821</td>\n",
       "      <td>-0.037655</td>\n",
       "      <td>-0.040002</td>\n",
       "      <td>-0.070366</td>\n",
       "      <td>-0.030628</td>\n",
       "      <td>-0.093547</td>\n",
       "      <td>-0.018485</td>\n",
       "      <td>-0.056351</td>\n",
       "      <td>-0.057933</td>\n",
       "      <td>-0.016559</td>\n",
       "      <td>-0.070033</td>\n",
       "    </tr>\n",
       "    <tr>\n",
       "      <th>184</th>\n",
       "      <td>0.064598</td>\n",
       "      <td>-0.068134</td>\n",
       "      <td>-0.210641</td>\n",
       "      <td>-0.087441</td>\n",
       "      <td>1.954284</td>\n",
       "      <td>1.399401</td>\n",
       "      <td>-0.430000</td>\n",
       "      <td>0.296800</td>\n",
       "      <td>1.188127</td>\n",
       "      <td>1.034363</td>\n",
       "      <td>-0.534630</td>\n",
       "      <td>0.777535</td>\n",
       "      <td>3.177868</td>\n",
       "      <td>1.018590</td>\n",
       "      <td>-0.124508</td>\n",
       "      <td>-0.082219</td>\n",
       "      <td>-0.139641</td>\n",
       "      <td>0.090417</td>\n",
       "      <td>0.071676</td>\n",
       "      <td>3.848384</td>\n",
       "      <td>0.050153</td>\n",
       "      <td>-0.166822</td>\n",
       "      <td>-0.059801</td>\n",
       "      <td>-0.012455</td>\n",
       "      <td>-0.023802</td>\n",
       "      <td>-0.041821</td>\n",
       "      <td>-0.037655</td>\n",
       "      <td>0.047651</td>\n",
       "      <td>1.121516</td>\n",
       "      <td>-0.030628</td>\n",
       "      <td>-0.093547</td>\n",
       "      <td>-0.018485</td>\n",
       "      <td>-0.160696</td>\n",
       "      <td>-0.158246</td>\n",
       "      <td>-0.016559</td>\n",
       "      <td>3.269629</td>\n",
       "    </tr>\n",
       "    <tr>\n",
       "      <th>186</th>\n",
       "      <td>-0.170512</td>\n",
       "      <td>-0.100418</td>\n",
       "      <td>-0.024389</td>\n",
       "      <td>-0.198657</td>\n",
       "      <td>-0.153437</td>\n",
       "      <td>-0.626787</td>\n",
       "      <td>0.320475</td>\n",
       "      <td>-0.441804</td>\n",
       "      <td>0.201462</td>\n",
       "      <td>-0.868033</td>\n",
       "      <td>0.857226</td>\n",
       "      <td>-0.562039</td>\n",
       "      <td>-0.049728</td>\n",
       "      <td>0.065543</td>\n",
       "      <td>1.167409</td>\n",
       "      <td>-0.083366</td>\n",
       "      <td>0.354063</td>\n",
       "      <td>0.090417</td>\n",
       "      <td>0.156246</td>\n",
       "      <td>-0.416042</td>\n",
       "      <td>3.035922</td>\n",
       "      <td>-0.081085</td>\n",
       "      <td>-0.059801</td>\n",
       "      <td>-0.012455</td>\n",
       "      <td>-0.689998</td>\n",
       "      <td>-0.041821</td>\n",
       "      <td>-0.037655</td>\n",
       "      <td>-0.040360</td>\n",
       "      <td>-0.075230</td>\n",
       "      <td>-0.030628</td>\n",
       "      <td>-0.093547</td>\n",
       "      <td>-0.018485</td>\n",
       "      <td>-0.067053</td>\n",
       "      <td>2.378954</td>\n",
       "      <td>-0.016559</td>\n",
       "      <td>-0.070033</td>\n",
       "    </tr>\n",
       "    <tr>\n",
       "      <th>230</th>\n",
       "      <td>0.211542</td>\n",
       "      <td>-0.035851</td>\n",
       "      <td>-0.117515</td>\n",
       "      <td>-0.087441</td>\n",
       "      <td>-0.153437</td>\n",
       "      <td>0.183688</td>\n",
       "      <td>0.320475</td>\n",
       "      <td>0.296800</td>\n",
       "      <td>0.201462</td>\n",
       "      <td>1.034363</td>\n",
       "      <td>0.857226</td>\n",
       "      <td>0.777535</td>\n",
       "      <td>-0.049728</td>\n",
       "      <td>0.065543</td>\n",
       "      <td>-1.274321</td>\n",
       "      <td>-0.083366</td>\n",
       "      <td>-0.077698</td>\n",
       "      <td>0.090417</td>\n",
       "      <td>-0.110813</td>\n",
       "      <td>-0.416042</td>\n",
       "      <td>0.007861</td>\n",
       "      <td>-1.473199</td>\n",
       "      <td>-0.059801</td>\n",
       "      <td>-0.012455</td>\n",
       "      <td>-0.023802</td>\n",
       "      <td>-0.311608</td>\n",
       "      <td>-0.037655</td>\n",
       "      <td>-0.040360</td>\n",
       "      <td>-0.075230</td>\n",
       "      <td>-0.030628</td>\n",
       "      <td>-0.093547</td>\n",
       "      <td>-0.018485</td>\n",
       "      <td>-0.099222</td>\n",
       "      <td>-2.348109</td>\n",
       "      <td>-0.016559</td>\n",
       "      <td>1.402720</td>\n",
       "    </tr>\n",
       "    <tr>\n",
       "      <th>6327</th>\n",
       "      <td>-0.199901</td>\n",
       "      <td>-0.095806</td>\n",
       "      <td>-0.210641</td>\n",
       "      <td>-0.198657</td>\n",
       "      <td>-0.574981</td>\n",
       "      <td>-0.221549</td>\n",
       "      <td>-0.430000</td>\n",
       "      <td>-0.441804</td>\n",
       "      <td>-0.785202</td>\n",
       "      <td>0.083165</td>\n",
       "      <td>-0.534630</td>\n",
       "      <td>-0.562039</td>\n",
       "      <td>-0.695247</td>\n",
       "      <td>-0.887503</td>\n",
       "      <td>-0.113285</td>\n",
       "      <td>-0.083366</td>\n",
       "      <td>-0.154761</td>\n",
       "      <td>0.090417</td>\n",
       "      <td>0.151123</td>\n",
       "      <td>-0.416042</td>\n",
       "      <td>-0.029084</td>\n",
       "      <td>-0.097721</td>\n",
       "      <td>-0.059801</td>\n",
       "      <td>-0.012455</td>\n",
       "      <td>-0.023802</td>\n",
       "      <td>-0.041821</td>\n",
       "      <td>-0.037655</td>\n",
       "      <td>-0.040360</td>\n",
       "      <td>-0.075230</td>\n",
       "      <td>-0.030628</td>\n",
       "      <td>-0.093547</td>\n",
       "      <td>-0.018485</td>\n",
       "      <td>-0.085364</td>\n",
       "      <td>-0.057933</td>\n",
       "      <td>-0.016559</td>\n",
       "      <td>-0.070033</td>\n",
       "    </tr>\n",
       "  </tbody>\n",
       "</table>\n",
       "</div>"
      ],
      "text/plain": [
       "      no_of_sales_12M_1  no_of_Redemption_12M_1  no_of_sales_12M_10K  \\\n",
       "4081          -0.131327               -0.100418            -0.210641   \n",
       "184            0.064598               -0.068134            -0.210641   \n",
       "186           -0.170512               -0.100418            -0.024389   \n",
       "230            0.211542               -0.035851            -0.117515   \n",
       "6327          -0.199901               -0.095806            -0.210641   \n",
       "\n",
       "      no_of_Redemption_12M_10K  no_of_funds_sold_12M_1  \\\n",
       "4081                 -0.198657               -0.153437   \n",
       "184                  -0.087441                1.954284   \n",
       "186                  -0.198657               -0.153437   \n",
       "230                  -0.087441               -0.153437   \n",
       "6327                 -0.198657               -0.574981   \n",
       "\n",
       "      no_of_funds_redeemed_12M_1  no_of_fund_sales_12M_10K  \\\n",
       "4081                   -0.626787                 -0.430000   \n",
       "184                     1.399401                 -0.430000   \n",
       "186                    -0.626787                  0.320475   \n",
       "230                     0.183688                  0.320475   \n",
       "6327                   -0.221549                 -0.430000   \n",
       "\n",
       "      no_of_funds_Redemption_12M_10K  no_of_assetclass_sold_12M_1  \\\n",
       "4081                       -0.441804                     0.201462   \n",
       "184                         0.296800                     1.188127   \n",
       "186                        -0.441804                     0.201462   \n",
       "230                         0.296800                     0.201462   \n",
       "6327                       -0.441804                    -0.785202   \n",
       "\n",
       "      no_of_assetclass_redeemed_12M_1  no_of_assetclass_sales_12M_10K  \\\n",
       "4081                        -0.868033                       -0.534630   \n",
       "184                          1.034363                       -0.534630   \n",
       "186                         -0.868033                        0.857226   \n",
       "230                          1.034363                        0.857226   \n",
       "6327                         0.083165                       -0.534630   \n",
       "\n",
       "      no_of_assetclass_Redemption_12M_10K  No_of_fund_curr  No_of_asset_curr  \\\n",
       "4081                            -0.562039        -0.372488          0.065543   \n",
       "184                              0.777535         3.177868          1.018590   \n",
       "186                             -0.562039        -0.049728          0.065543   \n",
       "230                              0.777535        -0.049728          0.065543   \n",
       "6327                            -0.562039        -0.695247         -0.887503   \n",
       "\n",
       "           AUM  sales_curr  sales_12M_2018  redemption_curr  redemption_12M  \\\n",
       "4081 -0.088949   -0.083247       -0.154606         0.090417        0.156246   \n",
       "184  -0.124508   -0.082219       -0.139641         0.090417        0.071676   \n",
       "186   1.167409   -0.083366        0.354063         0.090417        0.156246   \n",
       "230  -1.274321   -0.083366       -0.077698         0.090417       -0.110813   \n",
       "6327 -0.113285   -0.083366       -0.154761         0.090417        0.151123   \n",
       "\n",
       "      new_Fund_added_12M_2018  aum_AC_EQUITY  aum_AC_FIXED_INCOME_MUNI  \\\n",
       "4081                 0.436844      -0.026493                 -0.070601   \n",
       "184                  3.848384       0.050153                 -0.166822   \n",
       "186                 -0.416042       3.035922                 -0.081085   \n",
       "230                 -0.416042       0.007861                 -1.473199   \n",
       "6327                -0.416042      -0.029084                 -0.097721   \n",
       "\n",
       "      aum_AC_FIXED_INCOME_TAXABLE  aum_AC_MONEY  aum_AC_MULTIPLE  \\\n",
       "4081                    -0.059801     -0.012455        -0.023802   \n",
       "184                     -0.059801     -0.012455        -0.023802   \n",
       "186                     -0.059801     -0.012455        -0.689998   \n",
       "230                     -0.059801     -0.012455        -0.023802   \n",
       "6327                    -0.059801     -0.012455        -0.023802   \n",
       "\n",
       "      aum_AC_PHYSICAL_COMMODITY  aum_AC_REAL_ESTATE  aum_AC_TARGET  aum_P_529  \\\n",
       "4081                  -0.041821           -0.037655      -0.040002  -0.070366   \n",
       "184                   -0.041821           -0.037655       0.047651   1.121516   \n",
       "186                   -0.041821           -0.037655      -0.040360  -0.075230   \n",
       "230                   -0.311608           -0.037655      -0.040360  -0.075230   \n",
       "6327                  -0.041821           -0.037655      -0.040360  -0.075230   \n",
       "\n",
       "      aum_P_ALT  aum_P_CEF  aum_P_ETF  aum_P_MF  aum_P_SMA  aum_P_UCITS  \\\n",
       "4081  -0.030628  -0.093547  -0.018485 -0.056351  -0.057933    -0.016559   \n",
       "184   -0.030628  -0.093547  -0.018485 -0.160696  -0.158246    -0.016559   \n",
       "186   -0.030628  -0.093547  -0.018485 -0.067053   2.378954    -0.016559   \n",
       "230   -0.030628  -0.093547  -0.018485 -0.099222  -2.348109    -0.016559   \n",
       "6327  -0.030628  -0.093547  -0.018485 -0.085364  -0.057933    -0.016559   \n",
       "\n",
       "      aum_P_UIT  \n",
       "4081  -0.070033  \n",
       "184    3.269629  \n",
       "186   -0.070033  \n",
       "230    1.402720  \n",
       "6327  -0.070033  "
      ]
     },
     "execution_count": 22,
     "metadata": {},
     "output_type": "execute_result"
    }
   ],
   "source": [
    "X_train_prepared.head()"
   ]
  },
  {
   "cell_type": "markdown",
   "metadata": {},
   "source": [
    "**TRANSFORM** the test set (Do NOT fit the pipeline on testing!)"
   ]
  },
  {
   "cell_type": "code",
   "execution_count": 23,
   "metadata": {},
   "outputs": [],
   "source": [
    "X_test_prepared = pd.DataFrame(\n",
    "    feat_pipe.transform(X_test),\n",
    "    index=X_test.index,\n",
    "    columns=COLS_TO_KEEP\n",
    ")"
   ]
  },
  {
   "cell_type": "code",
   "execution_count": 24,
   "metadata": {},
   "outputs": [
    {
     "data": {
      "text/html": [
       "<div>\n",
       "<style scoped>\n",
       "    .dataframe tbody tr th:only-of-type {\n",
       "        vertical-align: middle;\n",
       "    }\n",
       "\n",
       "    .dataframe tbody tr th {\n",
       "        vertical-align: top;\n",
       "    }\n",
       "\n",
       "    .dataframe thead th {\n",
       "        text-align: right;\n",
       "    }\n",
       "</style>\n",
       "<table border=\"1\" class=\"dataframe\">\n",
       "  <thead>\n",
       "    <tr style=\"text-align: right;\">\n",
       "      <th></th>\n",
       "      <th>no_of_sales_12M_1</th>\n",
       "      <th>no_of_Redemption_12M_1</th>\n",
       "      <th>no_of_sales_12M_10K</th>\n",
       "      <th>no_of_Redemption_12M_10K</th>\n",
       "      <th>no_of_funds_sold_12M_1</th>\n",
       "      <th>no_of_funds_redeemed_12M_1</th>\n",
       "      <th>no_of_fund_sales_12M_10K</th>\n",
       "      <th>no_of_funds_Redemption_12M_10K</th>\n",
       "      <th>no_of_assetclass_sold_12M_1</th>\n",
       "      <th>no_of_assetclass_redeemed_12M_1</th>\n",
       "      <th>no_of_assetclass_sales_12M_10K</th>\n",
       "      <th>no_of_assetclass_Redemption_12M_10K</th>\n",
       "      <th>No_of_fund_curr</th>\n",
       "      <th>No_of_asset_curr</th>\n",
       "      <th>AUM</th>\n",
       "      <th>sales_curr</th>\n",
       "      <th>sales_12M_2018</th>\n",
       "      <th>redemption_curr</th>\n",
       "      <th>redemption_12M</th>\n",
       "      <th>new_Fund_added_12M_2018</th>\n",
       "      <th>aum_AC_EQUITY</th>\n",
       "      <th>aum_AC_FIXED_INCOME_MUNI</th>\n",
       "      <th>aum_AC_FIXED_INCOME_TAXABLE</th>\n",
       "      <th>aum_AC_MONEY</th>\n",
       "      <th>aum_AC_MULTIPLE</th>\n",
       "      <th>aum_AC_PHYSICAL_COMMODITY</th>\n",
       "      <th>aum_AC_REAL_ESTATE</th>\n",
       "      <th>aum_AC_TARGET</th>\n",
       "      <th>aum_P_529</th>\n",
       "      <th>aum_P_ALT</th>\n",
       "      <th>aum_P_CEF</th>\n",
       "      <th>aum_P_ETF</th>\n",
       "      <th>aum_P_MF</th>\n",
       "      <th>aum_P_SMA</th>\n",
       "      <th>aum_P_UCITS</th>\n",
       "      <th>aum_P_UIT</th>\n",
       "    </tr>\n",
       "  </thead>\n",
       "  <tbody>\n",
       "    <tr>\n",
       "      <th>2052</th>\n",
       "      <td>-0.199901</td>\n",
       "      <td>-0.095806</td>\n",
       "      <td>-0.210641</td>\n",
       "      <td>-0.087441</td>\n",
       "      <td>-0.574981</td>\n",
       "      <td>-0.221549</td>\n",
       "      <td>-0.430000</td>\n",
       "      <td>0.296800</td>\n",
       "      <td>-0.785202</td>\n",
       "      <td>0.083165</td>\n",
       "      <td>-0.534630</td>\n",
       "      <td>0.777535</td>\n",
       "      <td>-0.372488</td>\n",
       "      <td>0.065543</td>\n",
       "      <td>-0.262627</td>\n",
       "      <td>-0.083366</td>\n",
       "      <td>-0.154761</td>\n",
       "      <td>-0.569226</td>\n",
       "      <td>0.096033</td>\n",
       "      <td>-0.416042</td>\n",
       "      <td>-0.518428</td>\n",
       "      <td>-0.081085</td>\n",
       "      <td>-0.059801</td>\n",
       "      <td>-0.012455</td>\n",
       "      <td>-0.023802</td>\n",
       "      <td>6.485925</td>\n",
       "      <td>-0.037655</td>\n",
       "      <td>-0.04036</td>\n",
       "      <td>-0.07523</td>\n",
       "      <td>-0.030628</td>\n",
       "      <td>-0.093547</td>\n",
       "      <td>-0.018485</td>\n",
       "      <td>-0.263819</td>\n",
       "      <td>-0.057933</td>\n",
       "      <td>-0.016559</td>\n",
       "      <td>-0.070033</td>\n",
       "    </tr>\n",
       "    <tr>\n",
       "      <th>2758</th>\n",
       "      <td>-0.160716</td>\n",
       "      <td>-0.049687</td>\n",
       "      <td>-0.210641</td>\n",
       "      <td>-0.198657</td>\n",
       "      <td>-0.153437</td>\n",
       "      <td>0.588926</td>\n",
       "      <td>-0.430000</td>\n",
       "      <td>-0.441804</td>\n",
       "      <td>0.201462</td>\n",
       "      <td>1.034363</td>\n",
       "      <td>-0.534630</td>\n",
       "      <td>-0.562039</td>\n",
       "      <td>-0.695247</td>\n",
       "      <td>-0.887503</td>\n",
       "      <td>-0.103511</td>\n",
       "      <td>-0.081921</td>\n",
       "      <td>-0.153989</td>\n",
       "      <td>0.090417</td>\n",
       "      <td>0.146670</td>\n",
       "      <td>-0.416042</td>\n",
       "      <td>-0.036794</td>\n",
       "      <td>-0.081085</td>\n",
       "      <td>-0.067561</td>\n",
       "      <td>-0.012455</td>\n",
       "      <td>-0.023802</td>\n",
       "      <td>-0.041821</td>\n",
       "      <td>-0.037655</td>\n",
       "      <td>-0.04036</td>\n",
       "      <td>-0.07523</td>\n",
       "      <td>-0.030628</td>\n",
       "      <td>-0.093547</td>\n",
       "      <td>-0.018485</td>\n",
       "      <td>-0.073685</td>\n",
       "      <td>-0.057933</td>\n",
       "      <td>-0.016559</td>\n",
       "      <td>-0.070033</td>\n",
       "    </tr>\n",
       "    <tr>\n",
       "      <th>4334</th>\n",
       "      <td>-0.199901</td>\n",
       "      <td>-0.100418</td>\n",
       "      <td>-0.210641</td>\n",
       "      <td>-0.198657</td>\n",
       "      <td>-0.574981</td>\n",
       "      <td>-0.626787</td>\n",
       "      <td>-0.430000</td>\n",
       "      <td>-0.441804</td>\n",
       "      <td>-0.785202</td>\n",
       "      <td>-0.868033</td>\n",
       "      <td>-0.534630</td>\n",
       "      <td>-0.562039</td>\n",
       "      <td>-0.372488</td>\n",
       "      <td>0.065543</td>\n",
       "      <td>-0.094480</td>\n",
       "      <td>-0.083366</td>\n",
       "      <td>-0.154761</td>\n",
       "      <td>0.090417</td>\n",
       "      <td>0.156246</td>\n",
       "      <td>-0.416042</td>\n",
       "      <td>-0.024506</td>\n",
       "      <td>-0.081437</td>\n",
       "      <td>-0.041550</td>\n",
       "      <td>-0.012455</td>\n",
       "      <td>-0.020072</td>\n",
       "      <td>-0.041821</td>\n",
       "      <td>-0.037655</td>\n",
       "      <td>-0.04036</td>\n",
       "      <td>-0.07523</td>\n",
       "      <td>-0.030628</td>\n",
       "      <td>-0.093547</td>\n",
       "      <td>-0.018485</td>\n",
       "      <td>-0.062893</td>\n",
       "      <td>-0.057933</td>\n",
       "      <td>-0.016559</td>\n",
       "      <td>-0.070033</td>\n",
       "    </tr>\n",
       "    <tr>\n",
       "      <th>9047</th>\n",
       "      <td>0.113579</td>\n",
       "      <td>0.051774</td>\n",
       "      <td>-0.210641</td>\n",
       "      <td>-0.198657</td>\n",
       "      <td>0.689652</td>\n",
       "      <td>0.588926</td>\n",
       "      <td>-0.430000</td>\n",
       "      <td>-0.441804</td>\n",
       "      <td>1.188127</td>\n",
       "      <td>1.034363</td>\n",
       "      <td>-0.534630</td>\n",
       "      <td>-0.562039</td>\n",
       "      <td>-0.049728</td>\n",
       "      <td>0.065543</td>\n",
       "      <td>-0.097632</td>\n",
       "      <td>-0.072066</td>\n",
       "      <td>-0.135643</td>\n",
       "      <td>0.090143</td>\n",
       "      <td>0.145206</td>\n",
       "      <td>-0.416042</td>\n",
       "      <td>-0.012209</td>\n",
       "      <td>-0.087769</td>\n",
       "      <td>-0.060468</td>\n",
       "      <td>-0.012455</td>\n",
       "      <td>-0.023802</td>\n",
       "      <td>-0.041821</td>\n",
       "      <td>-0.037655</td>\n",
       "      <td>-0.04036</td>\n",
       "      <td>-0.07523</td>\n",
       "      <td>-0.030628</td>\n",
       "      <td>-0.093547</td>\n",
       "      <td>-0.018485</td>\n",
       "      <td>-0.066659</td>\n",
       "      <td>-0.057933</td>\n",
       "      <td>-0.016559</td>\n",
       "      <td>-0.070033</td>\n",
       "    </tr>\n",
       "    <tr>\n",
       "      <th>7001</th>\n",
       "      <td>0.005821</td>\n",
       "      <td>0.176295</td>\n",
       "      <td>-0.117515</td>\n",
       "      <td>0.246209</td>\n",
       "      <td>-0.153437</td>\n",
       "      <td>1.399401</td>\n",
       "      <td>0.320475</td>\n",
       "      <td>1.774008</td>\n",
       "      <td>0.201462</td>\n",
       "      <td>1.034363</td>\n",
       "      <td>0.857226</td>\n",
       "      <td>2.117108</td>\n",
       "      <td>0.273031</td>\n",
       "      <td>0.065543</td>\n",
       "      <td>-0.099338</td>\n",
       "      <td>-0.083366</td>\n",
       "      <td>-0.078773</td>\n",
       "      <td>0.071092</td>\n",
       "      <td>-0.190393</td>\n",
       "      <td>-0.416042</td>\n",
       "      <td>-0.035326</td>\n",
       "      <td>-0.081908</td>\n",
       "      <td>-0.038289</td>\n",
       "      <td>-0.012455</td>\n",
       "      <td>-0.023802</td>\n",
       "      <td>-0.041821</td>\n",
       "      <td>-0.037655</td>\n",
       "      <td>-0.04036</td>\n",
       "      <td>-0.07523</td>\n",
       "      <td>-0.030628</td>\n",
       "      <td>-0.093547</td>\n",
       "      <td>-0.018485</td>\n",
       "      <td>-0.068699</td>\n",
       "      <td>-0.057933</td>\n",
       "      <td>-0.016559</td>\n",
       "      <td>-0.070033</td>\n",
       "    </tr>\n",
       "  </tbody>\n",
       "</table>\n",
       "</div>"
      ],
      "text/plain": [
       "      no_of_sales_12M_1  no_of_Redemption_12M_1  no_of_sales_12M_10K  \\\n",
       "2052          -0.199901               -0.095806            -0.210641   \n",
       "2758          -0.160716               -0.049687            -0.210641   \n",
       "4334          -0.199901               -0.100418            -0.210641   \n",
       "9047           0.113579                0.051774            -0.210641   \n",
       "7001           0.005821                0.176295            -0.117515   \n",
       "\n",
       "      no_of_Redemption_12M_10K  no_of_funds_sold_12M_1  \\\n",
       "2052                 -0.087441               -0.574981   \n",
       "2758                 -0.198657               -0.153437   \n",
       "4334                 -0.198657               -0.574981   \n",
       "9047                 -0.198657                0.689652   \n",
       "7001                  0.246209               -0.153437   \n",
       "\n",
       "      no_of_funds_redeemed_12M_1  no_of_fund_sales_12M_10K  \\\n",
       "2052                   -0.221549                 -0.430000   \n",
       "2758                    0.588926                 -0.430000   \n",
       "4334                   -0.626787                 -0.430000   \n",
       "9047                    0.588926                 -0.430000   \n",
       "7001                    1.399401                  0.320475   \n",
       "\n",
       "      no_of_funds_Redemption_12M_10K  no_of_assetclass_sold_12M_1  \\\n",
       "2052                        0.296800                    -0.785202   \n",
       "2758                       -0.441804                     0.201462   \n",
       "4334                       -0.441804                    -0.785202   \n",
       "9047                       -0.441804                     1.188127   \n",
       "7001                        1.774008                     0.201462   \n",
       "\n",
       "      no_of_assetclass_redeemed_12M_1  no_of_assetclass_sales_12M_10K  \\\n",
       "2052                         0.083165                       -0.534630   \n",
       "2758                         1.034363                       -0.534630   \n",
       "4334                        -0.868033                       -0.534630   \n",
       "9047                         1.034363                       -0.534630   \n",
       "7001                         1.034363                        0.857226   \n",
       "\n",
       "      no_of_assetclass_Redemption_12M_10K  No_of_fund_curr  No_of_asset_curr  \\\n",
       "2052                             0.777535        -0.372488          0.065543   \n",
       "2758                            -0.562039        -0.695247         -0.887503   \n",
       "4334                            -0.562039        -0.372488          0.065543   \n",
       "9047                            -0.562039        -0.049728          0.065543   \n",
       "7001                             2.117108         0.273031          0.065543   \n",
       "\n",
       "           AUM  sales_curr  sales_12M_2018  redemption_curr  redemption_12M  \\\n",
       "2052 -0.262627   -0.083366       -0.154761        -0.569226        0.096033   \n",
       "2758 -0.103511   -0.081921       -0.153989         0.090417        0.146670   \n",
       "4334 -0.094480   -0.083366       -0.154761         0.090417        0.156246   \n",
       "9047 -0.097632   -0.072066       -0.135643         0.090143        0.145206   \n",
       "7001 -0.099338   -0.083366       -0.078773         0.071092       -0.190393   \n",
       "\n",
       "      new_Fund_added_12M_2018  aum_AC_EQUITY  aum_AC_FIXED_INCOME_MUNI  \\\n",
       "2052                -0.416042      -0.518428                 -0.081085   \n",
       "2758                -0.416042      -0.036794                 -0.081085   \n",
       "4334                -0.416042      -0.024506                 -0.081437   \n",
       "9047                -0.416042      -0.012209                 -0.087769   \n",
       "7001                -0.416042      -0.035326                 -0.081908   \n",
       "\n",
       "      aum_AC_FIXED_INCOME_TAXABLE  aum_AC_MONEY  aum_AC_MULTIPLE  \\\n",
       "2052                    -0.059801     -0.012455        -0.023802   \n",
       "2758                    -0.067561     -0.012455        -0.023802   \n",
       "4334                    -0.041550     -0.012455        -0.020072   \n",
       "9047                    -0.060468     -0.012455        -0.023802   \n",
       "7001                    -0.038289     -0.012455        -0.023802   \n",
       "\n",
       "      aum_AC_PHYSICAL_COMMODITY  aum_AC_REAL_ESTATE  aum_AC_TARGET  aum_P_529  \\\n",
       "2052                   6.485925           -0.037655       -0.04036   -0.07523   \n",
       "2758                  -0.041821           -0.037655       -0.04036   -0.07523   \n",
       "4334                  -0.041821           -0.037655       -0.04036   -0.07523   \n",
       "9047                  -0.041821           -0.037655       -0.04036   -0.07523   \n",
       "7001                  -0.041821           -0.037655       -0.04036   -0.07523   \n",
       "\n",
       "      aum_P_ALT  aum_P_CEF  aum_P_ETF  aum_P_MF  aum_P_SMA  aum_P_UCITS  \\\n",
       "2052  -0.030628  -0.093547  -0.018485 -0.263819  -0.057933    -0.016559   \n",
       "2758  -0.030628  -0.093547  -0.018485 -0.073685  -0.057933    -0.016559   \n",
       "4334  -0.030628  -0.093547  -0.018485 -0.062893  -0.057933    -0.016559   \n",
       "9047  -0.030628  -0.093547  -0.018485 -0.066659  -0.057933    -0.016559   \n",
       "7001  -0.030628  -0.093547  -0.018485 -0.068699  -0.057933    -0.016559   \n",
       "\n",
       "      aum_P_UIT  \n",
       "2052  -0.070033  \n",
       "2758  -0.070033  \n",
       "4334  -0.070033  \n",
       "9047  -0.070033  \n",
       "7001  -0.070033  "
      ]
     },
     "execution_count": 24,
     "metadata": {},
     "output_type": "execute_result"
    }
   ],
   "source": [
    "X_test_prepared.head()"
   ]
  },
  {
   "cell_type": "markdown",
   "metadata": {},
   "source": [
    "[Back to Top](#Index)\n",
    "# Model building"
   ]
  },
  {
   "cell_type": "code",
   "execution_count": 25,
   "metadata": {},
   "outputs": [],
   "source": [
    "from sklearn.linear_model import LinearRegression\n",
    "from sklearn.tree import DecisionTreeRegressor\n",
    "from sklearn.ensemble import RandomForestRegressor\n",
    "from sklearn.model_selection import RandomizedSearchCV\n",
    "from sklearn.feature_selection import SelectFromModel\n",
    "import xgboost as xgb"
   ]
  },
  {
   "cell_type": "code",
   "execution_count": 27,
   "metadata": {},
   "outputs": [],
   "source": [
    "import lightgbm as lgb"
   ]
  },
  {
   "cell_type": "markdown",
   "metadata": {},
   "source": [
    "Perhaps try:\n",
    "\n",
    "- Feature and target variable transformations\n",
    "    - Log transform skewed columns\n",
    "    - [SVD](https://scikit-learn.org/stable/modules/generated/sklearn.decomposition.TruncatedSVD.html) to remove noise and reduce dimensionality"
   ]
  },
  {
   "cell_type": "code",
   "execution_count": 30,
   "metadata": {},
   "outputs": [],
   "source": [
    "feat_pipe = Pipeline([\n",
    "    ('extract_columns_trans', extract_columns_trans),\n",
    "    ('fillna_values_trans', fillna_values_trans),\n",
    "    ('StandardScaler', StandardScaler()),\n",
    "    ('select', SelectFromModel(DecisionTreeRegressor())),\n",
    "    ('forest', RandomForestRegressor()),\n",
    "])"
   ]
  },
  {
   "cell_type": "code",
   "execution_count": 31,
   "metadata": {},
   "outputs": [
    {
     "data": {
      "text/plain": [
       "Pipeline(steps=[('extract_columns_trans',\n",
       "                 FunctionTransformer(func=<function extract_columns at 0x11fca1940>)),\n",
       "                ('fillna_values_trans',\n",
       "                 FunctionTransformer(func=<function fillna_values at 0x11fca11f0>)),\n",
       "                ('StandardScaler', StandardScaler()),\n",
       "                ('select', SelectFromModel(estimator=DecisionTreeRegressor())),\n",
       "                ('forest', RandomForestRegressor())])"
      ]
     },
     "execution_count": 31,
     "metadata": {},
     "output_type": "execute_result"
    }
   ],
   "source": [
    "feat_pipe.fit(X_train, y_train)"
   ]
  },
  {
   "cell_type": "markdown",
   "metadata": {},
   "source": [
    "[Back to Top](#Index)\n",
    "# Make predictions"
   ]
  },
  {
   "cell_type": "code",
   "execution_count": 32,
   "metadata": {},
   "outputs": [],
   "source": [
    "from sklearn.model_selection import cross_validate"
   ]
  },
  {
   "cell_type": "code",
   "execution_count": 33,
   "metadata": {},
   "outputs": [
    {
     "data": {
      "text/plain": [
       "{'fit_time': array([2.33108783, 2.08628607, 1.87297297, 1.24200869, 1.54488993]),\n",
       " 'score_time': array([0.05742502, 0.04144001, 0.03792596, 0.03523612, 0.04830694]),\n",
       " 'test_score': array([0.34843424, 0.30224115, 0.19333757, 0.31135006, 0.40043573])}"
      ]
     },
     "execution_count": 33,
     "metadata": {},
     "output_type": "execute_result"
    }
   ],
   "source": [
    "cross_validate(feat_pipe, X_train, y_train)"
   ]
  },
  {
   "cell_type": "code",
   "execution_count": 39,
   "metadata": {},
   "outputs": [
    {
     "data": {
      "text/plain": [
       "array([3.32757038e-02, 9.14844725e-03, 2.03137282e-02, 1.94318247e-02,\n",
       "       9.83620864e-04, 5.08363471e-03, 1.33733987e-03, 6.08912352e-03,\n",
       "       5.11489995e-04, 5.72902232e-04, 2.89736147e-04, 9.98700007e-03,\n",
       "       1.39446851e-02, 2.63289509e-04, 7.84068088e-02, 4.48750389e-02,\n",
       "       2.30024098e-01, 5.19909339e-02, 1.05156781e-02, 7.75073693e-02,\n",
       "       1.25717510e-02, 1.05114995e-02, 4.69926085e-03, 0.00000000e+00,\n",
       "       1.27576660e-02, 2.17185528e-04, 2.26756182e-05, 8.97621487e-03,\n",
       "       2.91001654e-03, 0.00000000e+00, 1.97884568e-02, 6.71241129e-05,\n",
       "       2.97301357e-01, 1.32001144e-02, 6.69850498e-05, 2.35723973e-03])"
      ]
     },
     "execution_count": 39,
     "metadata": {},
     "output_type": "execute_result"
    }
   ],
   "source": [
    "feat_pipe.named_steps['select'].estimator_.feature_importances_"
   ]
  },
  {
   "cell_type": "code",
   "execution_count": 40,
   "metadata": {},
   "outputs": [],
   "source": [
    "#  make regression predictions\n",
    "y_train_preds = feat_pipe.predict(X_train_prepared)\n",
    "y_test_preds = feat_pipe.predict(X_test_prepared)"
   ]
  },
  {
   "cell_type": "code",
   "execution_count": 41,
   "metadata": {},
   "outputs": [
    {
     "data": {
      "image/png": "[encoded data removed]",
      "text/plain": [
       "<Figure size 720x576 with 1 Axes>"
      ]
     },
     "metadata": {
      "needs_background": "light"
     },
     "output_type": "display_data"
    }
   ],
   "source": [
    "fig, ax = plt.subplots(1,1,figsize=(10,8))\n",
    "ax.scatter(x=y_train, y=y_train_preds, alpha=0.4)\n",
    "ax.plot([0, 20000000], [0,20000000])\n",
    "ax.set_xlim([0, 20000000])\n",
    "ax.set_ylim([0, 20000000])\n",
    "ax.set_title(\"Actual vs Predicted - Regression\")\n",
    "ax.set_xlabel(\"Actual\")\n",
    "ax.set_ylabel(\"Predicted\");"
   ]
  },
  {
   "cell_type": "code",
   "execution_count": 42,
   "metadata": {},
   "outputs": [
    {
     "data": {
      "image/png": "[encoded data removed]",
      "text/plain": [
       "<Figure size 720x576 with 1 Axes>"
      ]
     },
     "metadata": {
      "needs_background": "light"
     },
     "output_type": "display_data"
    }
   ],
   "source": [
    "fig, ax = plt.subplots(1,1,figsize=(10,8))\n",
    "ax.scatter(x=y_test, y=y_test_preds, alpha=0.4)\n",
    "ax.plot([0, 20000000], [0,20000000])\n",
    "ax.set_xlim([0, 20000000])\n",
    "ax.set_ylim([0, 20000000])\n",
    "ax.set_title(\"Actual vs Predicted - Regression\")\n",
    "ax.set_xlabel(\"Actual\")\n",
    "ax.set_ylabel(\"Predicted\");"
   ]
  },
  {
   "cell_type": "code",
   "execution_count": 43,
   "metadata": {},
   "outputs": [
    {
     "data": {
      "image/png": "[encoded data removed]",
      "text/plain": [
       "<Figure size 432x288 with 1 Axes>"
      ]
     },
     "metadata": {
      "needs_background": "light"
     },
     "output_type": "display_data"
    }
   ],
   "source": [
    "fig, ax = plt.subplots(1,1,figsize=(6,4))\n",
    "y_train.hist(bins=30, ax=ax);"
   ]
  },
  {
   "cell_type": "code",
   "execution_count": 54,
   "metadata": {},
   "outputs": [
    {
     "data": {
      "text/plain": [
       "count    7.503000e+03\n",
       "mean     2.145814e+05\n",
       "std      1.209152e+06\n",
       "min     -1.495182e+04\n",
       "25%      0.000000e+00\n",
       "50%      1.224400e+02\n",
       "75%      4.502168e+04\n",
       "max      4.867638e+07\n",
       "dtype: float64"
      ]
     },
     "execution_count": 54,
     "metadata": {},
     "output_type": "execute_result"
    }
   ],
   "source": [
    "y_train.describe()"
   ]
  },
  {
   "cell_type": "markdown",
   "metadata": {},
   "source": [
    "Theres a negative value in the target variable. Add a step to the `targ_pipe` do deal with negative values.`"
   ]
  },
  {
   "cell_type": "code",
   "execution_count": 52,
   "metadata": {},
   "outputs": [
    {
     "name": "stderr",
     "output_type": "stream",
     "text": [
      "/Users/carletonsmith/miniconda3/lib/python3.8/site-packages/pandas/core/series.py:726: RuntimeWarning: invalid value encountered in log\n",
      "  result = getattr(ufunc, method)(*inputs, **kwargs)\n"
     ]
    }
   ],
   "source": [
    "y_train_log = targ_pipe.transform(np.log(y_train+1))"
   ]
  },
  {
   "cell_type": "code",
   "execution_count": 47,
   "metadata": {},
   "outputs": [
    {
     "data": {
      "image/png": "[encoded data removed]",
      "text/plain": [
       "<Figure size 432x288 with 1 Axes>"
      ]
     },
     "metadata": {
      "needs_background": "light"
     },
     "output_type": "display_data"
    }
   ],
   "source": [
    "fig, ax = plt.subplots(1,1,figsize=(6,4))\n",
    "y_train_log.hist(bins=30, ax=ax);"
   ]
  },
  {
   "cell_type": "code",
   "execution_count": 55,
   "metadata": {},
   "outputs": [],
   "source": [
    "# y_train_logpred = feat_pipe.fit(X_train_prepared, y_train_log)"
   ]
  },
  {
   "cell_type": "code",
   "execution_count": 51,
   "metadata": {},
   "outputs": [
    {
     "data": {
      "text/plain": [
       "6646   NaN\n",
       "6713   NaN\n",
       "dtype: float64"
      ]
     },
     "execution_count": 51,
     "metadata": {},
     "output_type": "execute_result"
    }
   ],
   "source": [
    "y_train_log[y_train_log.isnull()]"
   ]
  },
  {
   "cell_type": "code",
   "execution_count": null,
   "metadata": {},
   "outputs": [],
   "source": []
  },
  {
   "cell_type": "code",
   "execution_count": null,
   "metadata": {},
   "outputs": [],
   "source": []
  },
  {
   "cell_type": "markdown",
   "metadata": {},
   "source": [
    "[Back to Top](#Index)\n",
    "# Model persistance"
   ]
  },
  {
   "cell_type": "code",
   "execution_count": 67,
   "metadata": {},
   "outputs": [
    {
     "data": {
      "text/plain": [
       "Pipeline(steps=[('extract_columns_trans',\n",
       "                 FunctionTransformer(func=<function extract_columns at 0x11fca1940>)),\n",
       "                ('fillna_values_trans',\n",
       "                 FunctionTransformer(func=<function fillna_values at 0x11fca11f0>)),\n",
       "                ('StandardScaler', StandardScaler()),\n",
       "                ('select', SelectFromModel(estimator=DecisionTreeRegressor())),\n",
       "                ('forest', RandomForestRegressor())])"
      ]
     },
     "execution_count": 67,
     "metadata": {},
     "output_type": "execute_result"
    }
   ],
   "source": [
    "feat_pipe"
   ]
  },
  {
   "cell_type": "code",
   "execution_count": 61,
   "metadata": {},
   "outputs": [],
   "source": [
    "import pickle"
   ]
  },
  {
   "cell_type": "code",
   "execution_count": 69,
   "metadata": {},
   "outputs": [
    {
     "name": "stdout",
     "output_type": "stream",
     "text": [
      "total 67008\r\n",
      "drwxr-xr-x   5 carletonsmith  staff       160 Oct 29 07:09 \u001b[1m\u001b[34m.\u001b[m\u001b[m/\r\n",
      "drwxr-xr-x  12 carletonsmith  staff       384 Oct 28 17:21 \u001b[1m\u001b[34m..\u001b[m\u001b[m/\r\n",
      "drwxr-xr-x   3 carletonsmith  staff        96 Oct 28 17:24 \u001b[1m\u001b[34m.ipynb_checkpoints\u001b[m\u001b[m/\r\n",
      "-rw-r--r--   1 carletonsmith  staff    232753 Oct 29 07:09 Week-3.ipynb\r\n",
      "-rw-r--r--   1 carletonsmith  staff  34071376 Oct 29 07:08 first_model.pkl\r\n"
     ]
    }
   ],
   "source": [
    "ls -la"
   ]
  },
  {
   "cell_type": "code",
   "execution_count": 72,
   "metadata": {},
   "outputs": [],
   "source": [
    "rf2 = RandomForestRegressor()"
   ]
  },
  {
   "cell_type": "code",
   "execution_count": 73,
   "metadata": {},
   "outputs": [
    {
     "data": {
      "text/plain": [
       "RandomForestRegressor()"
      ]
     },
     "execution_count": 73,
     "metadata": {},
     "output_type": "execute_result"
    }
   ],
   "source": [
    "rf2.fit(X_train_prepared, y_train)"
   ]
  },
  {
   "cell_type": "code",
   "execution_count": 76,
   "metadata": {},
   "outputs": [],
   "source": [
    "with open('first_model.pkl', 'wb') as f:\n",
    "    # Pickle the 'data' dictionary using the highest protocol available.\n",
    "    pickle.dump(rf2, f)"
   ]
  },
  {
   "cell_type": "code",
   "execution_count": 77,
   "metadata": {},
   "outputs": [],
   "source": [
    "with open('first_model.pkl', 'rb') as f:\n",
    "    rf_new = pickle.load(f)"
   ]
  },
  {
   "cell_type": "code",
   "execution_count": 79,
   "metadata": {},
   "outputs": [
    {
     "data": {
      "text/plain": [
       "array([168294.91148373,  12588.0795974 ,   6745.5634    , ...,\n",
       "        80605.90764671,   9198.441288  , 185725.60425051])"
      ]
     },
     "execution_count": 79,
     "metadata": {},
     "output_type": "execute_result"
    }
   ],
   "source": [
    "rf_new.predict(X_test_prepared)"
   ]
  },
  {
   "cell_type": "markdown",
   "metadata": {},
   "source": [
    "[Back to Top](#Index)\n",
    "# Residuals"
   ]
  },
  {
   "cell_type": "code",
   "execution_count": 56,
   "metadata": {},
   "outputs": [],
   "source": [
    "# get residuals\n",
    "residuals = y_test_preds - y_test"
   ]
  },
  {
   "cell_type": "code",
   "execution_count": 57,
   "metadata": {},
   "outputs": [
    {
     "data": {
      "image/png": "[encoded data removed]",
      "text/plain": [
       "<Figure size 1008x720 with 4 Axes>"
      ]
     },
     "metadata": {
      "needs_background": "light"
     },
     "output_type": "display_data"
    }
   ],
   "source": [
    "# plot predictions vs residuals\n",
    "fig, axes = plt.subplots(2,2,figsize=(14,10))\n",
    "\n",
    "# plot scatter on upper right plot\n",
    "axes[0,0].scatter(x=y_test_preds, y=residuals, alpha=0.5)\n",
    "axes[0,0].set(xlabel=\"Residuals\",ylabel=\"Predictions\");\n",
    "\n",
    "# plot hist on upper left plot\n",
    "axes[0,1].hist(residuals, bins=50)\n",
    "axes[0,1].set(xlabel='Residuals', ylabel='Frequency');"
   ]
  },
  {
   "cell_type": "code",
   "execution_count": 58,
   "metadata": {},
   "outputs": [],
   "source": [
    "from statsmodels.api import qqplot"
   ]
  },
  {
   "cell_type": "code",
   "execution_count": 59,
   "metadata": {},
   "outputs": [
    {
     "data": {
      "text/plain": [
       "(-3.5, 3.5)"
      ]
     },
     "execution_count": 59,
     "metadata": {},
     "output_type": "execute_result"
    }
   ],
   "source": [
    "axes[1,0].set_ylim([-3.5, 3.5])\n",
    "axes[1,0].set_xlim([-3.5, 3.5])"
   ]
  },
  {
   "cell_type": "code",
   "execution_count": 60,
   "metadata": {},
   "outputs": [
    {
     "data": {
      "image/png": "[encoded data removed]",
      "text/plain": [
       "<Figure size 1008x720 with 4 Axes>"
      ]
     },
     "execution_count": 60,
     "metadata": {},
     "output_type": "execute_result"
    }
   ],
   "source": [
    "qqplot(residuals, fit=True, line='r', ax=axes[1,0])"
   ]
  },
  {
   "cell_type": "markdown",
   "metadata": {},
   "source": [
    "[Back to Top](#Index)\n",
    "# Model Interpretation"
   ]
  },
  {
   "cell_type": "code",
   "execution_count": null,
   "metadata": {},
   "outputs": [],
   "source": []
  },
  {
   "cell_type": "code",
   "execution_count": null,
   "metadata": {},
   "outputs": [],
   "source": []
  },
  {
   "cell_type": "code",
   "execution_count": null,
   "metadata": {},
   "outputs": [],
   "source": []
  },
  {
   "cell_type": "code",
   "execution_count": null,
   "metadata": {},
   "outputs": [],
   "source": []
  },
  {
   "cell_type": "code",
   "execution_count": null,
   "metadata": {},
   "outputs": [],
   "source": []
  },
  {
   "cell_type": "code",
   "execution_count": null,
   "metadata": {},
   "outputs": [],
   "source": []
  },
  {
   "cell_type": "markdown",
   "metadata": {},
   "source": [
    "# Scratch Work"
   ]
  },
  {
   "cell_type": "code",
   "execution_count": null,
   "metadata": {},
   "outputs": [],
   "source": [
    "param_grid = {\n",
    "    'select__estimator': [Ridge(), RandomForestRegressor(), xgb.XGBRegressor()],\n",
    "    'select__max_features': [2, 5, 7, 9, 11, 13],\n",
    "    'forest__n_estimators': [25, 50, 75, 100, 150, 200],\n",
    "    'forest__max_features': ['sqrt', 'log2'],\n",
    "}"
   ]
  },
  {
   "cell_type": "code",
   "execution_count": null,
   "metadata": {},
   "outputs": [],
   "source": [
    "rs = RandomizedSearchCV(\n",
    "    feat_pipe, \n",
    "    param_distributions=param_grid,\n",
    "    cv=3,\n",
    "    verbose=2\n",
    ")"
   ]
  },
  {
   "cell_type": "code",
   "execution_count": null,
   "metadata": {},
   "outputs": [],
   "source": [
    "rs.fit(feat_pipe, X_train, y_train)"
   ]
  },
  {
   "cell_type": "code",
   "execution_count": null,
   "metadata": {},
   "outputs": [],
   "source": []
  },
  {
   "cell_type": "code",
   "execution_count": null,
   "metadata": {},
   "outputs": [],
   "source": []
  },
  {
   "cell_type": "code",
   "execution_count": null,
   "metadata": {},
   "outputs": [],
   "source": []
  },
  {
   "cell_type": "code",
   "execution_count": null,
   "metadata": {},
   "outputs": [],
   "source": []
  },
  {
   "cell_type": "code",
   "execution_count": null,
   "metadata": {},
   "outputs": [],
   "source": []
  },
  {
   "cell_type": "code",
   "execution_count": null,
   "metadata": {},
   "outputs": [],
   "source": []
  }
 ],
 "metadata": {
  "kernelspec": {
   "display_name": "Python 3",
   "language": "python",
   "name": "python3"
  },
  "language_info": {
   "codemirror_mode": {
    "name": "ipython",
    "version": 3
   },
   "file_extension": ".py",
   "mimetype": "text/x-python",
   "name": "python",
   "nbconvert_exporter": "python",
   "pygments_lexer": "ipython3",
   "version": "3.8.5"
  }
 },
 "nbformat": 4,
 "nbformat_minor": 4
}
